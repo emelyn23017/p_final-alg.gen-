{
 "cells": [
  {
   "cell_type": "code",
   "execution_count": 1,
   "id": "856eb3c8-a667-460c-98b2-3396ef71683c",
   "metadata": {},
   "outputs": [],
   "source": [
    "import pandas as pd\n",
    "import random\n",
    "import matplotlib.pyplot as plt\n",
    "\n",
    "import torch\n",
    "from lightning.pytorch.callbacks.early_stopping import EarlyStopping\n",
    "import torch.nn as nn\n",
    "import torch.optim as optim\n",
    "from sklearn.metrics import mean_squared_error\n",
    "from sklearn.model_selection import train_test_split\n",
    "from sklearn.preprocessing import MaxAbsScaler\n",
    "from torch.nn import functional as F\n",
    "from torch.utils.data import DataLoader, TensorDataset\n",
    "import lightning as L\n",
    "import pickle\n",
    "\n",
    "from scipy.spatial.distance import cdist\n",
    "\n",
    "import numpy as np\n",
    "from deap import base\n",
    "from deap import tools\n",
    "from deap import creator\n",
    "from deap.algorithms import eaSimple"
   ]
  },
  {
   "cell_type": "code",
   "execution_count": 2,
   "id": "b4113db2-a053-4a18-a411-7f8771794952",
   "metadata": {},
   "outputs": [],
   "source": [
    "features = ['Soil_Quality', 'Seed_Variety', 'Fertilizer_Amount_kg_per_hectare', 'Sunny_Days', 'Rainfall_mm', 'Irrigation_Schedule']\n",
    "target = ['Yield_kg_per_hectare']\n",
    "\n",
    "df_teste = pd.read_csv(\"agricultural_yield_test.csv\")\n",
    "df_treino = pd.read_csv(\"agricultural_yield_train.csv\")\n",
    "\n",
    "df_teste = df_teste.reindex(features + target, axis=1) \n",
    "df_teste = df_teste.dropna()\n",
    "\n",
    "df_treino = df_treino.reindex(features + target, axis=1)\n",
    "df_treino = df_treino.dropna()"
   ]
  },
  {
   "cell_type": "code",
   "execution_count": 3,
   "id": "d2ab596f-9b53-4af9-8004-777b17f46f1a",
   "metadata": {},
   "outputs": [
    {
     "data": {
      "text/html": [
       "<div>\n",
       "<style scoped>\n",
       "    .dataframe tbody tr th:only-of-type {\n",
       "        vertical-align: middle;\n",
       "    }\n",
       "\n",
       "    .dataframe tbody tr th {\n",
       "        vertical-align: top;\n",
       "    }\n",
       "\n",
       "    .dataframe thead th {\n",
       "        text-align: right;\n",
       "    }\n",
       "</style>\n",
       "<table border=\"1\" class=\"dataframe\">\n",
       "  <thead>\n",
       "    <tr style=\"text-align: right;\">\n",
       "      <th></th>\n",
       "      <th>Soil_Quality</th>\n",
       "      <th>Seed_Variety</th>\n",
       "      <th>Fertilizer_Amount_kg_per_hectare</th>\n",
       "      <th>Sunny_Days</th>\n",
       "      <th>Rainfall_mm</th>\n",
       "      <th>Irrigation_Schedule</th>\n",
       "      <th>Yield_kg_per_hectare</th>\n",
       "    </tr>\n",
       "  </thead>\n",
       "  <tbody>\n",
       "    <tr>\n",
       "      <th>0</th>\n",
       "      <td>93.304721</td>\n",
       "      <td>0</td>\n",
       "      <td>132.522218</td>\n",
       "      <td>96.670922</td>\n",
       "      <td>602.386237</td>\n",
       "      <td>3</td>\n",
       "      <td>278.986563</td>\n",
       "    </tr>\n",
       "    <tr>\n",
       "      <th>1</th>\n",
       "      <td>83.674653</td>\n",
       "      <td>1</td>\n",
       "      <td>57.283997</td>\n",
       "      <td>99.007556</td>\n",
       "      <td>466.518251</td>\n",
       "      <td>8</td>\n",
       "      <td>836.434840</td>\n",
       "    </tr>\n",
       "    <tr>\n",
       "      <th>2</th>\n",
       "      <td>65.963033</td>\n",
       "      <td>1</td>\n",
       "      <td>227.895479</td>\n",
       "      <td>104.844272</td>\n",
       "      <td>510.320495</td>\n",
       "      <td>4</td>\n",
       "      <td>785.881787</td>\n",
       "    </tr>\n",
       "    <tr>\n",
       "      <th>3</th>\n",
       "      <td>78.692834</td>\n",
       "      <td>1</td>\n",
       "      <td>176.314126</td>\n",
       "      <td>90.136191</td>\n",
       "      <td>354.350914</td>\n",
       "      <td>5</td>\n",
       "      <td>807.884526</td>\n",
       "    </tr>\n",
       "    <tr>\n",
       "      <th>4</th>\n",
       "      <td>72.415684</td>\n",
       "      <td>1</td>\n",
       "      <td>160.070418</td>\n",
       "      <td>101.221668</td>\n",
       "      <td>443.993788</td>\n",
       "      <td>10</td>\n",
       "      <td>1064.542374</td>\n",
       "    </tr>\n",
       "    <tr>\n",
       "      <th>...</th>\n",
       "      <td>...</td>\n",
       "      <td>...</td>\n",
       "      <td>...</td>\n",
       "      <td>...</td>\n",
       "      <td>...</td>\n",
       "      <td>...</td>\n",
       "      <td>...</td>\n",
       "    </tr>\n",
       "    <tr>\n",
       "      <th>3995</th>\n",
       "      <td>95.094714</td>\n",
       "      <td>1</td>\n",
       "      <td>124.108262</td>\n",
       "      <td>98.970659</td>\n",
       "      <td>496.705800</td>\n",
       "      <td>5</td>\n",
       "      <td>802.209345</td>\n",
       "    </tr>\n",
       "    <tr>\n",
       "      <th>3996</th>\n",
       "      <td>53.256984</td>\n",
       "      <td>0</td>\n",
       "      <td>100.310322</td>\n",
       "      <td>111.448947</td>\n",
       "      <td>667.056391</td>\n",
       "      <td>8</td>\n",
       "      <td>509.646540</td>\n",
       "    </tr>\n",
       "    <tr>\n",
       "      <th>3997</th>\n",
       "      <td>94.145522</td>\n",
       "      <td>1</td>\n",
       "      <td>196.473704</td>\n",
       "      <td>110.003474</td>\n",
       "      <td>458.241408</td>\n",
       "      <td>3</td>\n",
       "      <td>776.013634</td>\n",
       "    </tr>\n",
       "    <tr>\n",
       "      <th>3998</th>\n",
       "      <td>61.452120</td>\n",
       "      <td>1</td>\n",
       "      <td>80.618357</td>\n",
       "      <td>97.815517</td>\n",
       "      <td>778.652540</td>\n",
       "      <td>4</td>\n",
       "      <td>502.319484</td>\n",
       "    </tr>\n",
       "    <tr>\n",
       "      <th>3999</th>\n",
       "      <td>55.195906</td>\n",
       "      <td>0</td>\n",
       "      <td>122.473239</td>\n",
       "      <td>90.311720</td>\n",
       "      <td>582.999003</td>\n",
       "      <td>4</td>\n",
       "      <td>257.032544</td>\n",
       "    </tr>\n",
       "  </tbody>\n",
       "</table>\n",
       "<p>4000 rows × 7 columns</p>\n",
       "</div>"
      ],
      "text/plain": [
       "      Soil_Quality  Seed_Variety  Fertilizer_Amount_kg_per_hectare  \\\n",
       "0        93.304721             0                        132.522218   \n",
       "1        83.674653             1                         57.283997   \n",
       "2        65.963033             1                        227.895479   \n",
       "3        78.692834             1                        176.314126   \n",
       "4        72.415684             1                        160.070418   \n",
       "...            ...           ...                               ...   \n",
       "3995     95.094714             1                        124.108262   \n",
       "3996     53.256984             0                        100.310322   \n",
       "3997     94.145522             1                        196.473704   \n",
       "3998     61.452120             1                         80.618357   \n",
       "3999     55.195906             0                        122.473239   \n",
       "\n",
       "      Sunny_Days  Rainfall_mm  Irrigation_Schedule  Yield_kg_per_hectare  \n",
       "0      96.670922   602.386237                    3            278.986563  \n",
       "1      99.007556   466.518251                    8            836.434840  \n",
       "2     104.844272   510.320495                    4            785.881787  \n",
       "3      90.136191   354.350914                    5            807.884526  \n",
       "4     101.221668   443.993788                   10           1064.542374  \n",
       "...          ...          ...                  ...                   ...  \n",
       "3995   98.970659   496.705800                    5            802.209345  \n",
       "3996  111.448947   667.056391                    8            509.646540  \n",
       "3997  110.003474   458.241408                    3            776.013634  \n",
       "3998   97.815517   778.652540                    4            502.319484  \n",
       "3999   90.311720   582.999003                    4            257.032544  \n",
       "\n",
       "[4000 rows x 7 columns]"
      ]
     },
     "execution_count": 3,
     "metadata": {},
     "output_type": "execute_result"
    }
   ],
   "source": [
    "df_teste"
   ]
  },
  {
   "cell_type": "code",
   "execution_count": 4,
   "id": "e849dd2a-74fc-4031-85a0-59705b965ef4",
   "metadata": {},
   "outputs": [
    {
     "data": {
      "text/html": [
       "<div>\n",
       "<style scoped>\n",
       "    .dataframe tbody tr th:only-of-type {\n",
       "        vertical-align: middle;\n",
       "    }\n",
       "\n",
       "    .dataframe tbody tr th {\n",
       "        vertical-align: top;\n",
       "    }\n",
       "\n",
       "    .dataframe thead th {\n",
       "        text-align: right;\n",
       "    }\n",
       "</style>\n",
       "<table border=\"1\" class=\"dataframe\">\n",
       "  <thead>\n",
       "    <tr style=\"text-align: right;\">\n",
       "      <th></th>\n",
       "      <th>Soil_Quality</th>\n",
       "      <th>Seed_Variety</th>\n",
       "      <th>Fertilizer_Amount_kg_per_hectare</th>\n",
       "      <th>Sunny_Days</th>\n",
       "      <th>Rainfall_mm</th>\n",
       "      <th>Irrigation_Schedule</th>\n",
       "      <th>Yield_kg_per_hectare</th>\n",
       "    </tr>\n",
       "  </thead>\n",
       "  <tbody>\n",
       "    <tr>\n",
       "      <th>0</th>\n",
       "      <td>96.415657</td>\n",
       "      <td>1</td>\n",
       "      <td>147.853040</td>\n",
       "      <td>94.593926</td>\n",
       "      <td>444.267569</td>\n",
       "      <td>3</td>\n",
       "      <td>683.759119</td>\n",
       "    </tr>\n",
       "    <tr>\n",
       "      <th>1</th>\n",
       "      <td>92.352626</td>\n",
       "      <td>0</td>\n",
       "      <td>281.565396</td>\n",
       "      <td>90.504644</td>\n",
       "      <td>517.585491</td>\n",
       "      <td>7</td>\n",
       "      <td>678.714861</td>\n",
       "    </tr>\n",
       "    <tr>\n",
       "      <th>2</th>\n",
       "      <td>63.714785</td>\n",
       "      <td>1</td>\n",
       "      <td>137.864940</td>\n",
       "      <td>97.329340</td>\n",
       "      <td>420.310945</td>\n",
       "      <td>8</td>\n",
       "      <td>934.691975</td>\n",
       "    </tr>\n",
       "    <tr>\n",
       "      <th>3</th>\n",
       "      <td>90.084256</td>\n",
       "      <td>1</td>\n",
       "      <td>100.946659</td>\n",
       "      <td>113.404828</td>\n",
       "      <td>547.817646</td>\n",
       "      <td>7</td>\n",
       "      <td>905.842541</td>\n",
       "    </tr>\n",
       "    <tr>\n",
       "      <th>4</th>\n",
       "      <td>81.600341</td>\n",
       "      <td>1</td>\n",
       "      <td>223.088908</td>\n",
       "      <td>83.048176</td>\n",
       "      <td>434.726333</td>\n",
       "      <td>6</td>\n",
       "      <td>897.584665</td>\n",
       "    </tr>\n",
       "    <tr>\n",
       "      <th>...</th>\n",
       "      <td>...</td>\n",
       "      <td>...</td>\n",
       "      <td>...</td>\n",
       "      <td>...</td>\n",
       "      <td>...</td>\n",
       "      <td>...</td>\n",
       "      <td>...</td>\n",
       "    </tr>\n",
       "    <tr>\n",
       "      <th>15995</th>\n",
       "      <td>77.053550</td>\n",
       "      <td>1</td>\n",
       "      <td>154.189768</td>\n",
       "      <td>103.115855</td>\n",
       "      <td>319.915079</td>\n",
       "      <td>7</td>\n",
       "      <td>956.781949</td>\n",
       "    </tr>\n",
       "    <tr>\n",
       "      <th>15996</th>\n",
       "      <td>99.795631</td>\n",
       "      <td>1</td>\n",
       "      <td>282.295839</td>\n",
       "      <td>123.598354</td>\n",
       "      <td>647.292136</td>\n",
       "      <td>4</td>\n",
       "      <td>879.682714</td>\n",
       "    </tr>\n",
       "    <tr>\n",
       "      <th>15997</th>\n",
       "      <td>67.478487</td>\n",
       "      <td>1</td>\n",
       "      <td>120.017122</td>\n",
       "      <td>102.308627</td>\n",
       "      <td>514.372747</td>\n",
       "      <td>8</td>\n",
       "      <td>932.829561</td>\n",
       "    </tr>\n",
       "    <tr>\n",
       "      <th>15998</th>\n",
       "      <td>85.176890</td>\n",
       "      <td>1</td>\n",
       "      <td>247.847389</td>\n",
       "      <td>114.956634</td>\n",
       "      <td>695.035801</td>\n",
       "      <td>6</td>\n",
       "      <td>889.738438</td>\n",
       "    </tr>\n",
       "    <tr>\n",
       "      <th>15999</th>\n",
       "      <td>87.838280</td>\n",
       "      <td>0</td>\n",
       "      <td>244.216536</td>\n",
       "      <td>98.313738</td>\n",
       "      <td>590.794915</td>\n",
       "      <td>6</td>\n",
       "      <td>554.698389</td>\n",
       "    </tr>\n",
       "  </tbody>\n",
       "</table>\n",
       "<p>16000 rows × 7 columns</p>\n",
       "</div>"
      ],
      "text/plain": [
       "       Soil_Quality  Seed_Variety  Fertilizer_Amount_kg_per_hectare  \\\n",
       "0         96.415657             1                        147.853040   \n",
       "1         92.352626             0                        281.565396   \n",
       "2         63.714785             1                        137.864940   \n",
       "3         90.084256             1                        100.946659   \n",
       "4         81.600341             1                        223.088908   \n",
       "...             ...           ...                               ...   \n",
       "15995     77.053550             1                        154.189768   \n",
       "15996     99.795631             1                        282.295839   \n",
       "15997     67.478487             1                        120.017122   \n",
       "15998     85.176890             1                        247.847389   \n",
       "15999     87.838280             0                        244.216536   \n",
       "\n",
       "       Sunny_Days  Rainfall_mm  Irrigation_Schedule  Yield_kg_per_hectare  \n",
       "0       94.593926   444.267569                    3            683.759119  \n",
       "1       90.504644   517.585491                    7            678.714861  \n",
       "2       97.329340   420.310945                    8            934.691975  \n",
       "3      113.404828   547.817646                    7            905.842541  \n",
       "4       83.048176   434.726333                    6            897.584665  \n",
       "...           ...          ...                  ...                   ...  \n",
       "15995  103.115855   319.915079                    7            956.781949  \n",
       "15996  123.598354   647.292136                    4            879.682714  \n",
       "15997  102.308627   514.372747                    8            932.829561  \n",
       "15998  114.956634   695.035801                    6            889.738438  \n",
       "15999   98.313738   590.794915                    6            554.698389  \n",
       "\n",
       "[16000 rows x 7 columns]"
      ]
     },
     "execution_count": 4,
     "metadata": {},
     "output_type": "execute_result"
    }
   ],
   "source": [
    "df_treino"
   ]
  },
  {
   "cell_type": "code",
   "execution_count": 5,
   "id": "8d72f52b-eb7a-44ba-a6b8-5a61a784e82e",
   "metadata": {},
   "outputs": [],
   "source": [
    "qualidade_solo = list(df_teste['Soil_Quality'])\n",
    "variedade_semente = list(df_teste['Seed_Variety'])\n",
    "fertilizante = list(df_teste['Fertilizer_Amount_kg_per_hectare'])\n",
    "dias_de_sol = list(df_teste['Sunny_Days'])\n",
    "chuva = list(df_teste['Rainfall_mm'])\n",
    "irrigação = list(df_teste['Irrigation_Schedule'])\n",
    "\n",
    "rendimento = list(df_teste['Yield_kg_per_hectare'])"
   ]
  },
  {
   "cell_type": "code",
   "execution_count": 6,
   "id": "ecf1839d-e608-4261-83b8-760509c23eb9",
   "metadata": {},
   "outputs": [
    {
     "name": "stdout",
     "output_type": "stream",
     "text": [
      "Tamanho lista: 12\n",
      "[50.00362248192461, 99.99889758903616, 0, 1, 50.06265491148749, 299.9920540908917, 66.72446890908668, 138.52020171941672, 102.0075178449252, 876.694216751489, 0, 15]\n"
     ]
    }
   ],
   "source": [
    "lista = [qualidade_solo, variedade_semente, fertilizante, dias_de_sol, chuva, irrigação]\n",
    "\n",
    "min_max = []\n",
    "\n",
    "for i in lista:\n",
    "    min_max.append(min(i))\n",
    "    min_max.append(max(i))\n",
    "\n",
    "print(\"Tamanho lista:\", len(min_max)) # Deve ser 6 x 2\n",
    "print(min_max)"
   ]
  },
  {
   "cell_type": "markdown",
   "id": "25fc97ff-f371-400e-831f-2da62a326da0",
   "metadata": {},
   "source": [
    "## Treinando a Rede Neural\n",
    "\n",
    "Aqui ocorre o treinamento da melhor estrutura de rede encontrada com a otimização do optuna no \"Projeto Final de Redes Neurais\""
   ]
  },
  {
   "cell_type": "markdown",
   "id": "804ee3f5-587c-4c7c-a331-c510b96c0f31",
   "metadata": {
    "tags": []
   },
   "source": [
    "### Trabalhando com os dados para a rede"
   ]
  },
  {
   "cell_type": "markdown",
   "id": "7f0118df-8302-49d9-b875-8be7f22f40a6",
   "metadata": {
    "tags": []
   },
   "source": [
    "#### Definindo parâmetros"
   ]
  },
  {
   "cell_type": "markdown",
   "id": "85964905-bc97-4f08-bb54-1e0f5b17507f",
   "metadata": {},
   "source": [
    "Os parâmetros a seguir serão utilizados posteriormente: "
   ]
  },
  {
   "cell_type": "code",
   "execution_count": 7,
   "id": "2240a93e-fd04-448b-b1fb-86b0c0ceb2b4",
   "metadata": {},
   "outputs": [],
   "source": [
    "TAMANHO_VALIDACAO = 0.1\n",
    "\n",
    "SEMENTE_ALEATORIA = 61455"
   ]
  },
  {
   "cell_type": "markdown",
   "id": "47aa3bca-f001-405f-9694-1245f5a3ce13",
   "metadata": {
    "tags": []
   },
   "source": [
    "#### Separação do target"
   ]
  },
  {
   "cell_type": "markdown",
   "id": "6d693866-3212-4cf8-927b-a2a27497b919",
   "metadata": {},
   "source": [
    "Agora é possível separar o target dos atributos que serão utilizados para prevê-lo. O target será a variável: `Yield_kg_per_hectare` (rendimento em quilos por hectare). \n",
    "\n",
    "*Lembrando:* O target é a variável que será prevista e, nesse caso, quantificada/estimada. "
   ]
  },
  {
   "cell_type": "code",
   "execution_count": 8,
   "id": "fcf418e1-2379-4a84-ad21-9f5f5f475c2a",
   "metadata": {},
   "outputs": [],
   "source": [
    "X_teste = df_teste.reindex(features, axis=1).values\n",
    "y_teste = df_teste.reindex(target, axis=1).values\n",
    "\n",
    "X_treino = df_treino.reindex(features, axis=1).values\n",
    "y_treino = df_treino.reindex(target, axis=1).values"
   ]
  },
  {
   "cell_type": "markdown",
   "id": "3723203f-97f2-4ae3-8c1e-ab6df79bd424",
   "metadata": {
    "tags": []
   },
   "source": [
    "#### Split treino-validação"
   ]
  },
  {
   "cell_type": "markdown",
   "id": "3310a079-df8e-4370-af6a-20813c2971ee",
   "metadata": {},
   "source": [
    "Para verificar se a o modelo criado é bom teremos que, posteriormente, comparar o rendimento predito pelo rendimento da validação. Desse modo, devemos realizar um split do conjunto de treino em subconjuntos: 1. de treino; 2. validação. "
   ]
  },
  {
   "cell_type": "code",
   "execution_count": 9,
   "id": "9392b5c0-49c4-43ba-9498-a5567e02753f",
   "metadata": {},
   "outputs": [
    {
     "name": "stdout",
     "output_type": "stream",
     "text": [
      "RangeIndex(start=0, stop=16000, step=1) 16000\n",
      "Int64Index([ 2519, 11035,  3934, 14982,  4078, 12245, 12217,  9147, 11629,\n",
      "             3768,\n",
      "            ...\n",
      "             6255,  7971, 13014,  6321, 12691,  2256, 10672,  6652, 11166,\n",
      "            13937],\n",
      "           dtype='int64', length=14400) 14400\n",
      "\n",
      "Int64Index([ 8987,  4178,  4313,  1666,  6784, 12065, 10246,  8625,  9889,\n",
      "             6176,\n",
      "            ...\n",
      "             4452, 12565, 12620, 13756, 14945,    97,  8368, 10148, 12993,\n",
      "             5542],\n",
      "           dtype='int64', length=1600) 1600\n"
     ]
    }
   ],
   "source": [
    "indices = df_treino.index\n",
    "print(indices, len(indices))\n",
    "indices_treino, indices_val = train_test_split(\n",
    "    indices, test_size=TAMANHO_VALIDACAO, random_state=SEMENTE_ALEATORIA\n",
    ")\n",
    "\n",
    "print(indices_treino, len(indices_treino))\n",
    "print()\n",
    "print(indices_val, len(indices_val))\n",
    "\n",
    "df_val = df_treino.loc[indices_val]\n",
    "df_treino = df_treino.loc[indices_treino]\n",
    "\n",
    "\n",
    "X_treino = df_treino.reindex(features, axis=1).values\n",
    "y_treino = df_treino.reindex(target, axis=1).values\n",
    "\n",
    "X_val = df_val.reindex(features, axis=1).values\n",
    "y_val = df_val.reindex(target, axis=1).values"
   ]
  },
  {
   "cell_type": "markdown",
   "id": "8ef5446e-71cb-4f58-abff-c294563568a7",
   "metadata": {
    "tags": []
   },
   "source": [
    "#### Normalização e transformação de dados"
   ]
  },
  {
   "cell_type": "markdown",
   "id": "31a22864-b2c1-4388-bd7f-4eac0e91a5e9",
   "metadata": {},
   "source": [
    "Nas células abaixo: \n",
    "1. Realizamos a normalização de dados por máximo absoluto, a fim de reduzir a dimensionalidade de cada um dos atributos. *É interessante lembrar que: as redes neurais trabalham melhor entre -1 e 1.* \n",
    "\n",
    "2. Transformamos os dados para treinar e testar a rede neural. A conversão dos dados de números para tensores é necessária pois o PyTorch trabalha somente com esse tipo de objeto. "
   ]
  },
  {
   "cell_type": "markdown",
   "id": "4571b32c-910c-455b-9ae3-b6b524522351",
   "metadata": {
    "tags": []
   },
   "source": [
    "##### Normalização por máximo absoluto"
   ]
  },
  {
   "cell_type": "code",
   "execution_count": 10,
   "id": "52b5dee8-eb65-4c1f-8129-80589f06962e",
   "metadata": {},
   "outputs": [],
   "source": [
    "x_scaler = MaxAbsScaler()\n",
    "x_scaler.fit(X_treino)\n",
    "\n",
    "y_scaler = MaxAbsScaler()\n",
    "y_scaler.fit(y_treino)\n",
    "\n",
    "X_treino = x_scaler.transform(X_treino)\n",
    "y_treino = y_scaler.transform(y_treino)\n",
    "\n",
    "X_val = x_scaler.transform(X_val)\n",
    "y_val = y_scaler.transform(y_val)\n",
    "\n",
    "X_teste = x_scaler.transform(X_teste)\n",
    "y_teste = y_scaler.transform(y_teste)"
   ]
  },
  {
   "cell_type": "markdown",
   "id": "2e3fa609-bfda-48ae-b7e3-f22992b4bd67",
   "metadata": {
    "tags": []
   },
   "source": [
    "##### Conversão para tensores"
   ]
  },
  {
   "cell_type": "code",
   "execution_count": 11,
   "id": "c8e48ce8-9440-4d3f-9e98-229781bbaeef",
   "metadata": {},
   "outputs": [],
   "source": [
    "X_treino = torch.tensor(X_treino, dtype=torch.float32)\n",
    "y_treino = torch.tensor(y_treino, dtype=torch.float32)\n",
    "\n",
    "X_val = torch.tensor(X_val, dtype=torch.float32)\n",
    "y_val = torch.tensor(y_val, dtype=torch.float32)\n",
    "\n",
    "X_teste = torch.tensor(X_teste, dtype=torch.float32)\n",
    "y_teste = torch.tensor(y_teste, dtype=torch.float32)"
   ]
  },
  {
   "cell_type": "markdown",
   "id": "77d9d2b2-c356-46b8-a96c-a8975ddadf22",
   "metadata": {
    "tags": []
   },
   "source": [
    "###### Tensores de teste"
   ]
  },
  {
   "cell_type": "code",
   "execution_count": 12,
   "id": "9ab7d90c-65b8-46d0-a2cd-e8dd5777bee1",
   "metadata": {},
   "outputs": [
    {
     "data": {
      "text/plain": [
       "tensor([[0.9331, 0.0000, 0.4418, 0.6788, 0.6905, 0.2000],\n",
       "        [0.8368, 1.0000, 0.1910, 0.6952, 0.5348, 0.5333],\n",
       "        [0.6596, 1.0000, 0.7597, 0.7362, 0.5850, 0.2667],\n",
       "        ...,\n",
       "        [0.9415, 1.0000, 0.6549, 0.7724, 0.5253, 0.2000],\n",
       "        [0.6145, 1.0000, 0.2687, 0.6868, 0.8926, 0.2667],\n",
       "        [0.5520, 0.0000, 0.4083, 0.6341, 0.6683, 0.2667]])"
      ]
     },
     "execution_count": 12,
     "metadata": {},
     "output_type": "execute_result"
    }
   ],
   "source": [
    "X_teste"
   ]
  },
  {
   "cell_type": "code",
   "execution_count": 13,
   "id": "3b2d1c81-869d-41f9-b7cb-2616e75efb3f",
   "metadata": {},
   "outputs": [
    {
     "data": {
      "text/plain": [
       "tensor([[0.2014],\n",
       "        [0.6039],\n",
       "        [0.5674],\n",
       "        ...,\n",
       "        [0.5603],\n",
       "        [0.3627],\n",
       "        [0.1856]])"
      ]
     },
     "execution_count": 13,
     "metadata": {},
     "output_type": "execute_result"
    }
   ],
   "source": [
    "y_teste"
   ]
  },
  {
   "cell_type": "markdown",
   "id": "1784ca19-2c96-423b-a9da-89ad764559cf",
   "metadata": {
    "tags": []
   },
   "source": [
    "###### Tensores de treino"
   ]
  },
  {
   "cell_type": "code",
   "execution_count": 14,
   "id": "48e3a0ba-6794-4cb3-a6c2-cb6580305017",
   "metadata": {},
   "outputs": [
    {
     "data": {
      "text/plain": [
       "tensor([[0.9795, 0.0000, 0.7640, 0.7867, 0.4237, 0.2000],\n",
       "        [0.9797, 0.0000, 0.9775, 0.5857, 0.6576, 0.2667],\n",
       "        [0.9986, 1.0000, 0.4590, 0.6481, 0.5381, 0.1333],\n",
       "        ...,\n",
       "        [0.6414, 1.0000, 0.9437, 0.7126, 0.5219, 0.3333],\n",
       "        [0.6388, 1.0000, 0.4695, 0.6392, 0.3804, 0.2667],\n",
       "        [0.9902, 1.0000, 0.5284, 0.7755, 0.6688, 0.3333]])"
      ]
     },
     "execution_count": 14,
     "metadata": {},
     "output_type": "execute_result"
    }
   ],
   "source": [
    "X_treino"
   ]
  },
  {
   "cell_type": "code",
   "execution_count": 15,
   "id": "592ecc78-5278-428c-b95a-cca161be58b3",
   "metadata": {},
   "outputs": [
    {
     "data": {
      "text/plain": [
       "tensor([[0.3213],\n",
       "        [0.3385],\n",
       "        [0.4438],\n",
       "        ...,\n",
       "        [0.6514],\n",
       "        [0.4705],\n",
       "        [0.5933]])"
      ]
     },
     "execution_count": 15,
     "metadata": {},
     "output_type": "execute_result"
    }
   ],
   "source": [
    "y_treino"
   ]
  },
  {
   "cell_type": "code",
   "execution_count": 16,
   "id": "f9d3a3cf-64f0-48fe-97f3-5cd7258282df",
   "metadata": {},
   "outputs": [
    {
     "data": {
      "text/plain": [
       "array([[468.82317328]])"
      ]
     },
     "execution_count": 16,
     "metadata": {},
     "output_type": "execute_result"
    }
   ],
   "source": [
    "y_scaler.inverse_transform(y_treino[1].reshape(-1, 1))"
   ]
  },
  {
   "cell_type": "markdown",
   "id": "3ae757b7-2312-46ff-becc-a44621a5e249",
   "metadata": {
    "tags": []
   },
   "source": [
    "###### Tensores de validação "
   ]
  },
  {
   "cell_type": "code",
   "execution_count": 17,
   "id": "96cb4e93-d9ce-4f57-84f1-e60c1e0d7007",
   "metadata": {},
   "outputs": [
    {
     "data": {
      "text/plain": [
       "tensor([[0.6182, 1.0000, 0.3226, 0.7208, 0.6738, 0.5333],\n",
       "        [0.9165, 0.0000, 0.1888, 0.6953, 0.4263, 0.0667],\n",
       "        [0.6729, 1.0000, 0.5926, 0.7751, 0.6263, 0.2667],\n",
       "        ...,\n",
       "        [0.7481, 1.0000, 0.2723, 0.6990, 0.4905, 0.4667],\n",
       "        [0.5995, 1.0000, 0.7954, 0.6793, 0.6092, 0.5333],\n",
       "        [0.5068, 1.0000, 0.8737, 0.7273, 0.5378, 0.5333]])"
      ]
     },
     "execution_count": 17,
     "metadata": {},
     "output_type": "execute_result"
    }
   ],
   "source": [
    "X_val"
   ]
  },
  {
   "cell_type": "code",
   "execution_count": 18,
   "id": "95204e20-12e6-4751-8499-cf30e4fc6018",
   "metadata": {},
   "outputs": [
    {
     "data": {
      "text/plain": [
       "tensor([[0.6336],\n",
       "        [0.1526],\n",
       "        [0.5981],\n",
       "        ...,\n",
       "        [0.5879],\n",
       "        [0.7066],\n",
       "        [0.6803]])"
      ]
     },
     "execution_count": 18,
     "metadata": {},
     "output_type": "execute_result"
    }
   ],
   "source": [
    "y_val"
   ]
  },
  {
   "cell_type": "markdown",
   "id": "6015fd08-c8bf-45ad-9f46-03bfaebb0d44",
   "metadata": {
    "tags": []
   },
   "source": [
    "### Criando e treinando a rede"
   ]
  },
  {
   "cell_type": "markdown",
   "id": "f09efe8c-c8b5-4da3-a126-f86ad5d22c01",
   "metadata": {},
   "source": [
    "Esta célula é o passo inicial para criarmos e treinarmos nosso modelo. Utiliza a classe mãe, o `DataModule` do `Lightning`, que encapsula diversas informações necessárias para preparar nossos dados e futuramente usar o `Lightning` no treinamento.\n",
    "\n",
    "Obs: o número de trabalhadores foi selecionado como 8, pois o código foi trabalhado em um computador de alto desempenho (HPC)."
   ]
  },
  {
   "cell_type": "code",
   "execution_count": 19,
   "id": "0c2ef752-0ea7-4fc7-8a98-d4ba15d245bd",
   "metadata": {},
   "outputs": [],
   "source": [
    "class DataModule(L.LightningDataModule):\n",
    "    def __init__(\n",
    "        self,\n",
    "        X_treino,\n",
    "        y_treino,\n",
    "        X_val,\n",
    "        y_val,\n",
    "        X_teste,\n",
    "        y_teste,\n",
    "        tamanho_lote = 256,\n",
    "        num_trabalhadores = 2,\n",
    "    ):\n",
    "        super().__init__()\n",
    "\n",
    "        self.tamanho_lote = tamanho_lote\n",
    "        self.num_trabalhadores = num_trabalhadores\n",
    "\n",
    "        self.X_treino = X_treino\n",
    "        self.y_treino = y_treino\n",
    "        self.X_val = X_val\n",
    "        self.y_val = y_val\n",
    "        self.X_teste = X_teste\n",
    "        self.y_teste = y_teste\n",
    "\n",
    "    def train_dataloader(self):\n",
    "        return DataLoader(\n",
    "            TensorDataset(self.X_treino, self.y_treino),\n",
    "            batch_size=self.tamanho_lote,\n",
    "            num_workers=self.num_trabalhadores,\n",
    "            persistent_workers=True\n",
    "        )\n",
    "\n",
    "    def val_dataloader(self):\n",
    "        return DataLoader(\n",
    "            TensorDataset(self.X_val, self.y_val),\n",
    "            batch_size=self.tamanho_lote,\n",
    "            num_workers=self.num_trabalhadores,\n",
    "            persistent_workers=True\n",
    "        )\n",
    "\n",
    "    def test_dataloader(self):\n",
    "        return DataLoader(\n",
    "            TensorDataset(self.X_teste, self.y_teste),\n",
    "            batch_size=self.tamanho_lote,\n",
    "            num_workers=self.num_trabalhadores,\n",
    "            persistent_workers=True\n",
    "        )"
   ]
  },
  {
   "cell_type": "markdown",
   "id": "1e8b323c-b762-4b0f-bbef-0c391e3f6dc7",
   "metadata": {},
   "source": [
    "Para verificar se os dados estavam devidamente tratados e se funcionariam em nossa MLP (Multilayer Perceptron), criamos uma MLP de teste com arquitetura aleatória. Veja:  "
   ]
  },
  {
   "cell_type": "code",
   "execution_count": 20,
   "id": "90cb5c54-4094-49a0-905b-fda5915ba54c",
   "metadata": {},
   "outputs": [],
   "source": [
    "class MLP(L.LightningModule):\n",
    "    def __init__(\n",
    "        self, num_dados_entrada, num_targets, neuronios, dropouts\n",
    "    ):\n",
    "        super().__init__()    \n",
    "        \n",
    "        camadas = []   \n",
    "        \n",
    "        neuronios = [num_dados_entrada]+neuronios\n",
    "    \n",
    "        for k in range(len(neuronios)-1): # Camada de entrada + camadas ocultas \n",
    "            camadas.append(nn.Linear(neuronios[k], neuronios[k+1]))\n",
    "            camadas.append(nn.ReLU())\n",
    "            camadas.append(nn.Dropout(dropouts[k]))\n",
    "        \n",
    "        camadas.append(nn.Linear(neuronios[-1], num_targets)) # Camada de saída\n",
    "        \n",
    "        self.camadas = nn.Sequential(*camadas) \n",
    "        \n",
    "\n",
    "        self.fun_perda = F.mse_loss\n",
    "\n",
    "        self.perdas_treino = []\n",
    "        self.perdas_val = []\n",
    "\n",
    "        self.curva_aprendizado_treino = []\n",
    "        self.curva_aprendizado_val = []\n",
    "\n",
    "    def forward(self, x):\n",
    "        x = self.camadas(x)\n",
    "        return x\n",
    "\n",
    "    def training_step(self, batch, batch_idx):\n",
    "        x, y = batch\n",
    "        y_pred = self(x)\n",
    "        loss = self.fun_perda(y, y_pred)\n",
    "\n",
    "        self.log(\"loss\", loss, prog_bar=True)\n",
    "        self.perdas_treino.append(loss)\n",
    "\n",
    "        return loss\n",
    "\n",
    "    def validation_step(self, batch, batch_idx):\n",
    "        x, y = batch\n",
    "        y_pred = self(x)\n",
    "        loss = self.fun_perda(y, y_pred)\n",
    "\n",
    "        self.log(\"val_loss\", loss, prog_bar=True)\n",
    "        self.perdas_val.append(loss)\n",
    "\n",
    "        return loss\n",
    "\n",
    "    def test_step(self, batch, batch_idx):\n",
    "        x, y = batch\n",
    "        y_pred = self(x)\n",
    "        loss = self.fun_perda(y, y_pred)\n",
    "\n",
    "        self.log(\"test_loss\", loss)\n",
    "\n",
    "        return loss\n",
    "\n",
    "    def on_train_epoch_end(self):\n",
    "        # Atualiza curva de aprendizado\n",
    "        perda_media = torch.stack(self.perdas_treino).mean()\n",
    "        self.curva_aprendizado_treino.append(float(perda_media))\n",
    "        self.perdas_treino.clear()\n",
    "\n",
    "    def on_validation_epoch_end(self):\n",
    "        # Atualiza curva de aprendizado\n",
    "        perda_media = torch.stack(self.perdas_val).mean()\n",
    "        self.curva_aprendizado_val.append(float(perda_media))\n",
    "        self.perdas_val.clear()\n",
    "\n",
    "    def configure_optimizers(self):\n",
    "        optimizer = optim.SGD(self.parameters(), lr=1e-3)\n",
    "        return optimizer"
   ]
  },
  {
   "cell_type": "markdown",
   "id": "ddb29af3-5577-4074-8e26-1568e7f0f02f",
   "metadata": {},
   "source": [
    "Caracterítiscas da melhor MLP encontrada pela otimização: \n",
    "1. Camada de entrada com 6 neurônios \n",
    "2. Função de ativação: ReLU (obs: não foi um hiperparâmetro)\n",
    "3. Taxa de Dropout de aprox. 27,34% \n",
    "4. Camada oculta com 117 neurônios \n",
    "5. Camada de saída com 1 neurônio"
   ]
  },
  {
   "cell_type": "code",
   "execution_count": 21,
   "id": "391ba192-a266-4ede-a63b-b864008bed3f",
   "metadata": {},
   "outputs": [],
   "source": [
    "num_dados_entrada = 6\n",
    "num_targets = 1\n",
    "neuronios = [117]\n",
    "dropouts = [0.2734006184484247]"
   ]
  },
  {
   "cell_type": "code",
   "execution_count": 22,
   "id": "9aa7f100-5eed-4541-b4e5-331dcd913084",
   "metadata": {},
   "outputs": [],
   "source": [
    "datamodule = DataModule(X_treino, y_treino, X_val, y_val, X_teste, y_teste)"
   ]
  },
  {
   "cell_type": "code",
   "execution_count": 23,
   "id": "e5dc92e2-3e03-4e8e-a22a-03f852841e4e",
   "metadata": {},
   "outputs": [
    {
     "data": {
      "text/plain": [
       "MLP(\n",
       "  (camadas): Sequential(\n",
       "    (0): Linear(in_features=6, out_features=117, bias=True)\n",
       "    (1): ReLU()\n",
       "    (2): Dropout(p=0.2734006184484247, inplace=False)\n",
       "    (3): Linear(in_features=117, out_features=1, bias=True)\n",
       "  )\n",
       ")"
      ]
     },
     "execution_count": 23,
     "metadata": {},
     "output_type": "execute_result"
    }
   ],
   "source": [
    "# Criar o modelo com os parâmetros do melhor teste\n",
    "melhor_modelo = MLP(num_dados_entrada, num_targets, neuronios, dropouts)\n",
    "\n",
    "melhor_modelo.train()"
   ]
  },
  {
   "cell_type": "code",
   "execution_count": 24,
   "id": "3d77e29b-88d8-4703-ab18-ddf35076f8bc",
   "metadata": {},
   "outputs": [
    {
     "name": "stderr",
     "output_type": "stream",
     "text": [
      "GPU available: False, used: False\n",
      "TPU available: False, using: 0 TPU cores\n",
      "IPU available: False, using: 0 IPUs\n",
      "HPU available: False, using: 0 HPUs\n",
      "\n",
      "  | Name    | Type       | Params\n",
      "---------------------------------------\n",
      "0 | camadas | Sequential | 937   \n",
      "---------------------------------------\n",
      "937       Trainable params\n",
      "0         Non-trainable params\n",
      "937       Total params\n",
      "0.004     Total estimated model params size (MB)\n",
      "`Trainer.fit` stopped: `max_epochs=400` reached.\n"
     ]
    }
   ],
   "source": [
    "# Treinar o modelo com o Trainer\n",
    "MAX_EPOCHS = 400\n",
    "\n",
    "early_stop_callback = EarlyStopping(monitor=\"val_loss\", mode=\"min\", patience=3)\n",
    "treinador= L.Trainer(max_epochs=MAX_EPOCHS, callbacks=[early_stop_callback], enable_progress_bar=False) \n",
    "treinador.fit(melhor_modelo, datamodule=datamodule)"
   ]
  },
  {
   "cell_type": "code",
   "execution_count": 25,
   "id": "c58a5721-5dac-460b-a035-ab87a1c261b0",
   "metadata": {},
   "outputs": [],
   "source": [
    "nome_arquivo = \"meu_modelo.p\"\n",
    "pickle.dump(melhor_modelo.state_dict(), open(nome_arquivo, \"wb\"))"
   ]
  },
  {
   "cell_type": "code",
   "execution_count": 26,
   "id": "ee05a249-a928-45af-9a0d-c3611fda9643",
   "metadata": {},
   "outputs": [
    {
     "data": {
      "text/plain": [
       "MLP(\n",
       "  (camadas): Sequential(\n",
       "    (0): Linear(in_features=6, out_features=117, bias=True)\n",
       "    (1): ReLU()\n",
       "    (2): Dropout(p=0.2734006184484247, inplace=False)\n",
       "    (3): Linear(in_features=117, out_features=1, bias=True)\n",
       "  )\n",
       ")"
      ]
     },
     "execution_count": 26,
     "metadata": {},
     "output_type": "execute_result"
    }
   ],
   "source": [
    "melhor_modelo.eval()"
   ]
  },
  {
   "cell_type": "markdown",
   "id": "4494d666-a139-470f-8605-1ed0ae6bf179",
   "metadata": {},
   "source": [
    "Vamos testar se funciona."
   ]
  },
  {
   "cell_type": "code",
   "execution_count": 27,
   "id": "17e69085-2ce1-4ad0-b1c5-659604abbb33",
   "metadata": {},
   "outputs": [
    {
     "name": "stdout",
     "output_type": "stream",
     "text": [
      "68.77206129211164\n"
     ]
    }
   ],
   "source": [
    "datamodule.setup(\"test\")\n",
    "\n",
    "with torch.no_grad():\n",
    "    X_true = datamodule.X_teste\n",
    "    \n",
    "    y_true = datamodule.y_teste\n",
    "    y_true = y_scaler.inverse_transform(y_true)\n",
    "\n",
    "    y_pred = melhor_modelo(X_true)\n",
    "    y_pred = y_scaler.inverse_transform(y_pred)\n",
    "\n",
    "    RMSE = mean_squared_error(y_true, y_pred, squared=False)\n",
    "\n",
    "    print(RMSE)"
   ]
  },
  {
   "cell_type": "code",
   "execution_count": 28,
   "id": "2386cbdc-c29c-4052-862c-b5d9f0a791e6",
   "metadata": {},
   "outputs": [
    {
     "data": {
      "text/plain": [
       "Text(0, 0.5, 'Loss')"
      ]
     },
     "execution_count": 28,
     "metadata": {},
     "output_type": "execute_result"
    },
    {
     "data": {
      "image/png": "[encoded data removed]",
      "text/plain": [
       "<Figure size 640x480 with 1 Axes>"
      ]
     },
     "metadata": {},
     "output_type": "display_data"
    }
   ],
   "source": [
    "# Plot treino e validação\n",
    "    \n",
    "figura, eixo = plt.subplots()\n",
    "\n",
    "ca_treino_melhor_modelo = melhor_modelo.curva_aprendizado_treino\n",
    "ca_val_melhor_modelo = melhor_modelo.curva_aprendizado_val\n",
    "\n",
    "eixo.plot(ca_treino_melhor_modelo, label=\"Treino\")\n",
    "eixo.plot(ca_val_melhor_modelo, label=\"Validação\")\n",
    "\n",
    "eixo.legend()\n",
    "\n",
    "eixo.set_xlim(left=0)\n",
    "\n",
    "eixo.set_title(\"Curva de aprendizado\")\n",
    "eixo.set_xlabel(\"Época\")\n",
    "eixo.set_ylabel(\"Loss\")"
   ]
  },
  {
   "cell_type": "markdown",
   "id": "e18963c3-700b-46c5-8804-aff8591b49dd",
   "metadata": {},
   "source": [
    "### Usando módulo DEAP para algoritmo genético"
   ]
  },
  {
   "cell_type": "code",
   "execution_count": 29,
   "id": "4bcb11d8-1757-41c6-9471-3c0f799928fd",
   "metadata": {},
   "outputs": [],
   "source": [
    "TAMANHO_POPULACAO = 100\n",
    "NUM_GERACOES = 150\n",
    "CHANCE_DE_CRUZAMENTO = 0.5\n",
    "CHANCE_DE_MUTACAO = 0.5\n",
    "TAMANHO_TORNEIO = 5\n",
    "TAMANHO_HALL_DA_FAMA = 1"
   ]
  },
  {
   "cell_type": "code",
   "execution_count": 30,
   "id": "ba528a2e-58fd-43a7-9eba-6ae65a46190d",
   "metadata": {
    "tags": []
   },
   "outputs": [],
   "source": [
    "toolbox = base.Toolbox()"
   ]
  },
  {
   "cell_type": "code",
   "execution_count": 31,
   "id": "15ed3297-958d-4f32-b7f6-e7f923537510",
   "metadata": {},
   "outputs": [
    {
     "name": "stdout",
     "output_type": "stream",
     "text": [
      "Soil_Quality -> Min = 50.00362248192461 / Max = 99.99889758903616\n",
      "\n",
      "Seed_Variety -> Min = 0 / Max = 1\n",
      "\n",
      "Fertilizer_Amount_kg_per_hectare -> Min = 50.06265491148749 / Max = 299.9920540908917\n",
      "\n",
      "Sunny_Days -> Min = 66.72446890908668 / Max = 138.52020171941672\n",
      "\n",
      "Rainfall_mm -> Min = 102.0075178449252 / Max = 876.694216751489\n",
      "\n",
      "Irrigation_Schedule -> Min = 0 / Max = 15\n",
      "\n"
     ]
    }
   ],
   "source": [
    "i = 0\n",
    "j = 0\n",
    "\n",
    "for _ in range(6):\n",
    "    print(features[i], '-> Min =', min_max[j], '/ Max =', min_max[j+1])\n",
    "    print()\n",
    "    i += 1\n",
    "    j += 2"
   ]
  },
  {
   "cell_type": "code",
   "execution_count": 32,
   "id": "e581ca64-36ea-4dce-bea8-410320190162",
   "metadata": {},
   "outputs": [
    {
     "name": "stdout",
     "output_type": "stream",
     "text": [
      "[50.00362248192461, 99.99889758903616, 0, 1, 50.06265491148749, 299.9920540908917, 66.72446890908668, 138.52020171941672, 102.0075178449252, 876.694216751489, 0, 15]\n"
     ]
    }
   ],
   "source": [
    "print(min_max)"
   ]
  },
  {
   "cell_type": "code",
   "execution_count": 33,
   "id": "9e795937-00b9-46da-9955-2cf6244f960b",
   "metadata": {},
   "outputs": [],
   "source": [
    "def gene_soil_quality():\n",
    "    return random.uniform(min_max[0], min_max[1])\n",
    "\n",
    "def gene_seed_variety():\n",
    "    return random.choice([min_max[2], min_max[3]])\n",
    "\n",
    "def gene_fertilizer_amount():\n",
    "    return random.uniform(min_max[4], min_max[5])\n",
    "\n",
    "def gene_sunny_days():\n",
    "    return random.uniform(min_max[6], min_max[7])\n",
    "\n",
    "def gene_rainfall():\n",
    "    return random.uniform(min_max[8], min_max[9])\n",
    "\n",
    "def gene_irrigation_schedule():\n",
    "    return random.randint(int(min_max[10]), int(min_max[11]))"
   ]
  },
  {
   "cell_type": "markdown",
   "id": "85f43d88-da02-43fc-8557-45cd966cbb93",
   "metadata": {},
   "source": [
    "Registrando os genes no toolbox"
   ]
  },
  {
   "cell_type": "code",
   "execution_count": 34,
   "id": "f4ce5607-b7c8-47a9-b5ab-a32daa092d15",
   "metadata": {},
   "outputs": [],
   "source": [
    "toolbox.register(\"gene_soil_quality\", gene_soil_quality)\n",
    "toolbox.register(\"gene_seed_variety\", gene_seed_variety)\n",
    "toolbox.register(\"gene_fertilizer_amount\", gene_fertilizer_amount)\n",
    "toolbox.register(\"gene_sunny_days\", gene_sunny_days)\n",
    "toolbox.register(\"gene_rainfall\", gene_rainfall)\n",
    "toolbox.register(\"gene_irrigation_schedule\", gene_irrigation_schedule)"
   ]
  },
  {
   "cell_type": "code",
   "execution_count": 35,
   "id": "baf9642c-c9b3-46c4-8e6d-3731bd3a0c55",
   "metadata": {},
   "outputs": [],
   "source": [
    "creator.create(\"FitnessMax\", base.Fitness, weights=(1.0,))\n",
    "creator.create(\"Individuo\", list, fitness=creator.FitnessMax)"
   ]
  },
  {
   "cell_type": "code",
   "execution_count": 36,
   "id": "ea6c7afc-25df-4153-a646-720643777c67",
   "metadata": {},
   "outputs": [],
   "source": [
    "def cria_individuo():\n",
    "    return creator.Individuo([\n",
    "        toolbox.gene_soil_quality(),\n",
    "        toolbox.gene_seed_variety(),\n",
    "        toolbox.gene_fertilizer_amount(),\n",
    "        toolbox.gene_sunny_days(),\n",
    "        toolbox.gene_rainfall(),\n",
    "        toolbox.gene_irrigation_schedule()\n",
    "    ])"
   ]
  },
  {
   "cell_type": "code",
   "execution_count": 37,
   "id": "c5c4af65-3b83-438b-b0a6-0fdeccf45d27",
   "metadata": {},
   "outputs": [
    {
     "name": "stdout",
     "output_type": "stream",
     "text": [
      "[56.11895092172438, 1, 258.68195836780774, 129.81791842013277, 433.7579189330817, 9]\n"
     ]
    }
   ],
   "source": [
    "individuo_teste = cria_individuo()\n",
    "\n",
    "print(individuo_teste)"
   ]
  },
  {
   "cell_type": "code",
   "execution_count": 38,
   "id": "edf99bb3-a110-4cff-a6cc-0c1185882edc",
   "metadata": {},
   "outputs": [
    {
     "name": "stdout",
     "output_type": "stream",
     "text": [
      "[ 96.54837663   0.         107.98822288  98.04618594 450.36612122\n",
      "   4.        ]\n",
      "1406.1107054578508\n"
     ]
    }
   ],
   "source": [
    "num = max(rendimento)\n",
    "\n",
    "indice = rendimento.index(num)\n",
    "\n",
    "linha = indice\n",
    "individuo = df_treino.iloc[linha,:-1].values\n",
    "\n",
    "print(individuo)\n",
    "print(rendimento[indice])"
   ]
  },
  {
   "cell_type": "code",
   "execution_count": 39,
   "id": "0fdd513e-1d1d-4417-bdd5-b3166ce2a573",
   "metadata": {},
   "outputs": [
    {
     "name": "stdout",
     "output_type": "stream",
     "text": [
      "1623.4603713656602\n"
     ]
    }
   ],
   "source": [
    "individuo = torch.tensor(individuo, dtype=torch.float32)\n",
    "\n",
    "# Realizar a predição\n",
    "with torch.no_grad():\n",
    "    y_pred = melhor_modelo(individuo).reshape(-1, 1)\n",
    "    y_pred = y_scaler.inverse_transform(y_pred)\n",
    "\n",
    "print(y_pred[0][0])"
   ]
  },
  {
   "cell_type": "markdown",
   "id": "9955ec6c-6253-467e-b39a-374edb649f67",
   "metadata": {},
   "source": [
    "Criando e testando a função objetivo"
   ]
  },
  {
   "cell_type": "code",
   "execution_count": 40,
   "id": "b6abc638-95cb-4c8d-b307-507e7fd740fc",
   "metadata": {},
   "outputs": [],
   "source": [
    "def funcao_objetivo(individuo):\n",
    "    \"\"\"Computa a função objetivo prevendo o valor de y_pred e tentando maximizá-lo.\"\"\"\n",
    "    \n",
    "    individuo = torch.tensor(individuo, dtype=torch.float32).unsqueeze(0)  # Adicionar dimensão de batch\n",
    "\n",
    "    \n",
    "    # Realizar a predição\n",
    "    with torch.no_grad():\n",
    "        y_pred = melhor_modelo(individuo)\n",
    "        y_pred = y_scaler.inverse_transform(y_pred.reshape(-1, 1))\n",
    "        \n",
    "    # Calcular a distância de Manhattan entre y_pred e todos os valores de y_true definidos anteriormente\n",
    "    y_pred_val = y_pred[0][0]\n",
    "    y_true_vals = y_true.reshape(-1, 1)\n",
    "    distances = cdist([[y_pred_val]], y_true_vals, metric='cityblock')\n",
    "    \n",
    "    # Verificar a menor distância\n",
    "    min_distance = distances.min()\n",
    "    if min_distance > 500:\n",
    "        y_pred_val = 0\n",
    "    \n",
    "\n",
    "    return(y_pred_val, )"
   ]
  },
  {
   "cell_type": "code",
   "execution_count": 42,
   "id": "53db40ee-5139-4428-871c-c88a0af155c3",
   "metadata": {},
   "outputs": [
    {
     "name": "stderr",
     "output_type": "stream",
     "text": [
      "C:\\Users\\joao23022\\AppData\\Local\\Temp\\ipykernel_14868\\2900109287.py:4: UserWarning: To copy construct from a tensor, it is recommended to use sourceTensor.clone().detach() or sourceTensor.clone().detach().requires_grad_(True), rather than torch.tensor(sourceTensor).\n",
      "  individuo = torch.tensor(individuo, dtype=torch.float32).unsqueeze(0)  # Adicionar dimensão de batch\n"
     ]
    },
    {
     "data": {
      "text/plain": [
       "(1623.4603713656602,)"
      ]
     },
     "execution_count": 42,
     "metadata": {},
     "output_type": "execute_result"
    }
   ],
   "source": [
    "funcao_objetivo(individuo)"
   ]
  },
  {
   "cell_type": "code",
   "execution_count": 43,
   "id": "85664c42-1b13-4218-a51d-6e42837153b0",
   "metadata": {},
   "outputs": [],
   "source": [
    "def mutacao_personalizada(individuo, chance_de_mutacao, min_max_list):\n",
    "    \n",
    "    min_max = min_max_list\n",
    "        \n",
    "    for gene in range(len(individuo)):\n",
    "        if random.random() < chance_de_mutacao:\n",
    "            if gene == 0:\n",
    "                individuo[gene] = random.uniform(min_max[0], min_max[1])\n",
    "            elif gene == 1:\n",
    "                individuo[gene] = 0 if individuo[gene] == 1 else 1\n",
    "            elif gene == 2:\n",
    "                individuo[gene] = random.uniform(min_max[4], min_max[5])\n",
    "            elif gene == 3:\n",
    "                individuo[gene] = random.uniform(min_max[6], min_max[7])\n",
    "            elif gene == 4:\n",
    "                individuo[gene] = random.uniform(min_max[8], min_max[9])\n",
    "            elif gene == 5:\n",
    "                individuo[gene] = random.randint(int(min_max[10]), int(min_max[11]))\n",
    "        \n",
    "    return (individuo, )"
   ]
  },
  {
   "cell_type": "code",
   "execution_count": 44,
   "id": "e60792c9-ee6c-4fa8-bfe5-baac573d0237",
   "metadata": {},
   "outputs": [],
   "source": [
    "toolbox.register(\"evaluate\", funcao_objetivo)"
   ]
  },
  {
   "cell_type": "code",
   "execution_count": 45,
   "id": "508252a7-a59a-46d6-aade-bd8e9c9d5b93",
   "metadata": {},
   "outputs": [],
   "source": [
    "toolbox.register(\"cria_individuo\", cria_individuo)\n",
    "toolbox.register(\"populacao\", tools.initRepeat, list, toolbox.cria_individuo, TAMANHO_POPULACAO)\n",
    "toolbox.register(\"select\", tools.selTournament, tournsize=TAMANHO_TORNEIO)\n",
    "toolbox.register(\"mate\", tools.cxUniform, indpb=0.5)\n",
    "\n",
    "toolbox.register(\n",
    "    \"mutate\",\n",
    "    mutacao_personalizada,\n",
    "    chance_de_mutacao = CHANCE_DE_MUTACAO,\n",
    "    min_max_list = min_max\n",
    ")\n",
    "\n",
    "hall_da_fama = tools.HallOfFame(TAMANHO_HALL_DA_FAMA)\n",
    "\n",
    "estatisticas = tools.Statistics(lambda ind: ind.fitness.values)\n",
    "estatisticas.register(\"média\", np.mean)\n",
    "estatisticas.register(\"desv. padrão\", np.std)\n",
    "estatisticas.register(\"min\", np.min)\n",
    "estatisticas.register(\"max\", np.max)\n",
    "\n",
    "populacao_inicial = toolbox.populacao()"
   ]
  },
  {
   "cell_type": "code",
   "execution_count": 46,
   "id": "27feea2b-be11-48fb-9665-aa2b73ca76f6",
   "metadata": {},
   "outputs": [
    {
     "name": "stdout",
     "output_type": "stream",
     "text": [
      "gen\tnevals\tmédia  \tdesv. padrão\tmin     \tmax    \n",
      "0  \t100   \t41.2504\t193.12      \t-261.703\t1273.05\n",
      "1  \t69    \t152.946\t393.364     \t-205.602\t1866.58\n",
      "2  \t86    \t305.94 \t581.164     \t-239.867\t1866.58\n",
      "3  \t73    \t513.042\t703.57      \t-342.733\t1894.04\n",
      "4  \t81    \t648.512\t762.032     \t-254.154\t1895.69\n",
      "5  \t82    \t585.944\t790.678     \t-268.54 \t1899.84\n",
      "6  \t70    \t840.608\t837.292     \t-275.684\t1895.69\n",
      "7  \t77    \t734.457\t876.972     \t-331.461\t1895.69\n",
      "8  \t68    \t920.9  \t891.467     \t-257.837\t1895.69\n",
      "9  \t64    \t940.241\t912.892     \t-340.314\t1895.69\n",
      "10 \t77    \t914.011\t901.399     \t-317.886\t1895.69\n",
      "11 \t75    \t733.503\t882.323     \t-341.003\t1895.69\n",
      "12 \t71    \t871.958\t919.075     \t-385.76 \t1895.69\n",
      "13 \t84    \t870.221\t915.942     \t-268.54 \t1895.69\n",
      "14 \t70    \t931.034\t925.301     \t-361.601\t1895.69\n",
      "15 \t73    \t1084.66\t909.789     \t-250.779\t1895.69\n",
      "16 \t72    \t1048.46\t910.429     \t-205.286\t1895.69\n",
      "17 \t69    \t1108.99\t906.292     \t-96.2717\t1895.69\n",
      "18 \t84    \t926.037\t932.539     \t-376.677\t1895.69\n",
      "19 \t74    \t1107.74\t898.412     \t-168.412\t1895.69\n",
      "20 \t81    \t985.719\t911.087     \t-97.4944\t1902.56\n",
      "21 \t75    \t1045.14\t933.211     \t-339.221\t1902.56\n",
      "22 \t78    \t1129.4 \t909.792     \t-181.209\t1902.56\n",
      "23 \t70    \t1032.18\t922.917     \t-139.325\t1902.56\n",
      "24 \t75    \t980.563\t894.638     \t-202.534\t1902.56\n",
      "25 \t73    \t929.64 \t887.822     \t0       \t1902.56\n",
      "26 \t74    \t1013.44\t902.421     \t0       \t1902.56\n",
      "27 \t80    \t953.092\t912.677     \t-342.07 \t1902.56\n",
      "28 \t79    \t866.822\t908.441     \t-350.466\t1902.56\n",
      "29 \t73    \t970.852\t909.352     \t-352.649\t1902.56\n",
      "30 \t73    \t1068.74\t897.982     \t-174.826\t1902.56\n",
      "31 \t81    \t960.778\t886.004     \t-379.108\t1902.56\n",
      "32 \t73    \t1050.6 \t915.879     \t-254.876\t1902.56\n",
      "33 \t74    \t993.952\t939.07      \t-360.298\t1902.56\n",
      "34 \t81    \t868.419\t913.665     \t-310.085\t1902.56\n",
      "35 \t80    \t945.586\t883.929     \t-313.491\t1902.56\n",
      "36 \t80    \t1019.52\t890.144     \t-172.703\t1902.56\n",
      "37 \t76    \t945.323\t914.491     \t-296.312\t1902.56\n",
      "38 \t82    \t968.306\t914.8       \t-285.439\t1902.56\n",
      "39 \t73    \t962.257\t936.897     \t-244.094\t1902.56\n",
      "40 \t87    \t740.957\t891.665     \t-257.365\t1902.56\n",
      "41 \t68    \t982.068\t904.534     \t-320.517\t1903.99\n",
      "42 \t70    \t1141.8 \t874.485     \t0       \t1903.99\n",
      "43 \t69    \t1052.01\t919.291     \t-54.4516\t1903.99\n",
      "44 \t74    \t883.167\t934.671     \t-374.834\t1903.99\n",
      "45 \t76    \t890.788\t856.859     \t0       \t1905.67\n",
      "46 \t72    \t888.037\t894.092     \t-366.178\t1905.67\n",
      "47 \t79    \t951.697\t877.215     \t-283.848\t1903.99\n",
      "48 \t67    \t954.052\t919.388     \t-232.822\t1903.99\n",
      "49 \t76    \t991.239\t923.703     \t-370.212\t1903.99\n",
      "50 \t78    \t878.122\t917.217     \t-378.319\t1903.99\n",
      "51 \t77    \t1065.48\t913.175     \t-306.535\t1903.99\n",
      "52 \t72    \t1170.19\t890.992     \t-372.473\t1903.99\n",
      "53 \t78    \t1153.42\t916.314     \t-278.433\t1903.99\n",
      "54 \t76    \t988.118\t920.85      \t-231.662\t1903.99\n",
      "55 \t78    \t1002.17\t899.218     \t-155.653\t1903.99\n",
      "56 \t74    \t1044.59\t895.764     \t-227.935\t1903.99\n",
      "57 \t72    \t1047.91\t904.054     \t-168.639\t1903.99\n",
      "58 \t69    \t1103.67\t891.474     \t-62.7291\t1903.99\n",
      "59 \t79    \t974.336\t927.378     \t-342.972\t1903.99\n",
      "60 \t70    \t1132.02\t927.017     \t-352.907\t1903.99\n",
      "61 \t66    \t1175.76\t891.558     \t-33.2188\t1903.99\n",
      "62 \t78    \t1027.18\t935.25      \t-384.948\t1903.99\n",
      "63 \t76    \t1107.21\t923.795     \t-336.619\t1903.99\n",
      "64 \t78    \t946.514\t927.107     \t-302.494\t1903.99\n",
      "65 \t76    \t1007.49\t893.782     \t-131.243\t1903.99\n",
      "66 \t82    \t1038.22\t927.161     \t-305.355\t1903.99\n",
      "67 \t69    \t1286.88\t839.138     \t-42.9104\t1903.99\n",
      "68 \t77    \t1058   \t920.559     \t-359.309\t1903.99\n",
      "69 \t70    \t1035.02\t904.282     \t-211.665\t1903.99\n",
      "70 \t76    \t1093.01\t911.393     \t-229.856\t1903.99\n",
      "71 \t80    \t891.223\t889.015     \t-386.473\t1903.99\n",
      "72 \t60    \t1136   \t897.967     \t-381.237\t1903.99\n",
      "73 \t70    \t1142.14\t917.609     \t-379.887\t1903.99\n",
      "74 \t81    \t1066.14\t916.807     \t-363.189\t1903.99\n",
      "75 \t78    \t988.459\t929.074     \t-383.053\t1903.99\n",
      "76 \t70    \t1157.88\t877.847     \t-367.393\t1903.99\n",
      "77 \t79    \t938.081\t933.849     \t-227.935\t1903.99\n",
      "78 \t76    \t1129.11\t892.704     \t0       \t1903.99\n",
      "79 \t73    \t1002.4 \t929.841     \t-388.195\t1903.99\n",
      "80 \t81    \t982.023\t905.726     \t-366.755\t1903.99\n",
      "81 \t68    \t1020.14\t917.443     \t-155.018\t1903.99\n",
      "82 \t78    \t1147.29\t893.667     \t-200.029\t1903.99\n",
      "83 \t75    \t934.145\t936.411     \t-277.138\t1903.99\n",
      "84 \t78    \t1072.48\t892.346     \t-162.833\t1903.99\n",
      "85 \t71    \t1049.43\t903.126     \t-167.838\t1903.99\n",
      "86 \t66    \t1132.02\t906.444     \t0       \t1903.99\n",
      "87 \t80    \t1086.35\t910.22      \t-382.598\t1903.99\n",
      "88 \t73    \t994.396\t912.08      \t-359.585\t1903.99\n",
      "89 \t76    \t1098.48\t907.39      \t-210.473\t1903.99\n",
      "90 \t68    \t1000.43\t917.017     \t-25.1918\t1903.99\n",
      "91 \t78    \t936.251\t934.998     \t-369.739\t1903.99\n",
      "92 \t88    \t1002.91\t910.847     \t-214.175\t1903.99\n",
      "93 \t79    \t1040.59\t922.582     \t-211.742\t1903.99\n",
      "94 \t80    \t971.302\t920.917     \t-343.815\t1903.99\n",
      "95 \t71    \t1056.92\t913.804     \t-124.235\t1903.99\n",
      "96 \t73    \t1068   \t898.017     \t0       \t1903.99\n",
      "97 \t68    \t1034.27\t899.201     \t-173.301\t1903.99\n",
      "98 \t73    \t968.497\t895.433     \t-115.136\t1903.99\n",
      "99 \t79    \t879.225\t926.47      \t-191.807\t1903.99\n",
      "100\t69    \t1096.46\t908.299     \t-246.768\t1903.99\n",
      "101\t83    \t889.76 \t922.898     \t-351.382\t1903.99\n",
      "102\t77    \t1002.22\t892.556     \t0       \t1903.99\n",
      "103\t75    \t1057.61\t916.694     \t-372.003\t1903.99\n",
      "104\t73    \t1200.63\t901.954     \t-255.361\t1903.99\n",
      "105\t76    \t1087.36\t917.084     \t-366.331\t1903.99\n",
      "106\t77    \t1153.24\t911.525     \t-356.193\t1903.99\n",
      "107\t71    \t1152.72\t911.789     \t-78.5756\t1903.99\n",
      "108\t75    \t1064.38\t918.356     \t-268.451\t1903.99\n",
      "109\t76    \t934.558\t929.56      \t-208.999\t1903.99\n",
      "110\t78    \t1058.46\t912.507     \t0       \t1903.99\n",
      "111\t77    \t989.413\t894.667     \t-287.064\t1903.99\n",
      "112\t75    \t1030.11\t922.098     \t-323.229\t1903.99\n",
      "113\t77    \t950.935\t921.876     \t-390.763\t1903.99\n",
      "114\t72    \t1077.05\t890.479     \t-47.834 \t1903.99\n",
      "115\t73    \t1141.17\t914.127     \t-369.088\t1903.99\n",
      "116\t76    \t952.906\t943.504     \t-375.09 \t1903.99\n",
      "117\t71    \t1123.55\t881.649     \t-261.476\t1903.99\n",
      "118\t68    \t1096.39\t915.269     \t0       \t1903.99\n",
      "119\t73    \t1123.59\t900.02      \t0       \t1903.99\n",
      "120\t75    \t970.775\t924.922     \t-366.339\t1903.99\n",
      "121\t79    \t978.002\t893.63      \t-286.845\t1903.99\n",
      "122\t78    \t1066.23\t904.927     \t-221.362\t1903.99\n",
      "123\t65    \t1127.81\t924.296     \t-343.306\t1903.99\n",
      "124\t79    \t1082.21\t919.321     \t-204.841\t1903.99\n",
      "125\t64    \t1166.71\t910.177     \t-318.573\t1903.99\n",
      "126\t85    \t1036.84\t921.638     \t-333.117\t1903.99\n",
      "127\t84    \t967.962\t911.474     \t-283.093\t1903.99\n",
      "128\t75    \t1122.53\t901.167     \t-259.303\t1903.99\n",
      "129\t79    \t1136.8 \t891.399     \t-333.213\t1903.99\n",
      "130\t74    \t1101.58\t902.748     \t0       \t1903.99\n",
      "131\t71    \t900.88 \t932.361     \t-364.36 \t1903.99\n",
      "132\t80    \t1026.6 \t925.726     \t-236.354\t1903.99\n",
      "133\t76    \t1052.32\t905.632     \t-315.116\t1903.99\n",
      "134\t71    \t1077.83\t890.639     \t-289.491\t1903.99\n",
      "135\t73    \t938.373\t904.079     \t0       \t1903.99\n",
      "136\t84    \t971.226\t909.414     \t-295.839\t1903.99\n",
      "137\t80    \t1055.9 \t906.875     \t-227.935\t1903.99\n",
      "138\t83    \t1040.88\t912.712     \t-379.291\t1903.99\n",
      "139\t83    \t963.126\t926.94      \t-344.339\t1903.99\n",
      "140\t81    \t868.184\t904.219     \t0       \t1903.99\n",
      "141\t74    \t1029.92\t901.506     \t-235.066\t1903.99\n",
      "142\t73    \t1068.88\t915.462     \t-367.052\t1903.99\n",
      "143\t73    \t1029.91\t906.39      \t-42.9104\t1903.99\n",
      "144\t88    \t1034.12\t914.57      \t-244.315\t1903.99\n",
      "145\t82    \t1045.67\t910.177     \t-221.505\t1903.99\n",
      "146\t73    \t961.482\t933.696     \t-287.266\t1903.99\n",
      "147\t78    \t918.437\t910.035     \t0       \t1903.99\n",
      "148\t76    \t948.914\t927.359     \t-324.066\t1903.99\n",
      "149\t76    \t1022.73\t921.875     \t0       \t1903.99\n",
      "150\t75    \t920.113\t938.769     \t-320.59 \t1903.99\n"
     ]
    }
   ],
   "source": [
    "populacao_final, log = eaSimple(\n",
    "    populacao_inicial,\n",
    "    toolbox,\n",
    "    cxpb=CHANCE_DE_CRUZAMENTO,\n",
    "    mutpb=CHANCE_DE_MUTACAO,\n",
    "    ngen=NUM_GERACOES,\n",
    "    stats=estatisticas,\n",
    "    halloffame=hall_da_fama,\n",
    "    verbose=True,\n",
    ")"
   ]
  },
  {
   "cell_type": "code",
   "execution_count": 48,
   "id": "274262d4-18af-4891-a36a-d9f9ce79b54f",
   "metadata": {},
   "outputs": [
    {
     "name": "stdout",
     "output_type": "stream",
     "text": [
      "[53.50845644515552, 0, 68.65328665253034, 107.79096753047125, 710.4793681983692, 10]\n"
     ]
    }
   ],
   "source": [
    "print(hall_da_fama.items[0])"
   ]
  },
  {
   "cell_type": "code",
   "execution_count": 47,
   "id": "319b6dab-cd92-4dd7-bb37-184dcf74cce9",
   "metadata": {},
   "outputs": [
    {
     "name": "stdout",
     "output_type": "stream",
     "text": [
      "A previsão máxima de rendimento encontrada foi: 1905.6691964314996\n"
     ]
    }
   ],
   "source": [
    "individuo = torch.tensor(hall_da_fama.items[0])\n",
    "\n",
    "# Realizar a predição\n",
    "with torch.no_grad():\n",
    "    y_pred = melhor_modelo(individuo).reshape(-1, 1)\n",
    "    y_pred = y_scaler.inverse_transform(y_pred)\n",
    "\n",
    "print(f\"A previsão máxima de rendimento encontrada foi: {y_pred[0][0]}\")"
   ]
  }
 ],
 "metadata": {
  "kernelspec": {
   "display_name": "ilumpy",
   "language": "python",
   "name": "ilumpy"
  },
  "language_info": {
   "codemirror_mode": {
    "name": "ipython",
    "version": 3
   },
   "file_extension": ".py",
   "mimetype": "text/x-python",
   "name": "python",
   "nbconvert_exporter": "python",
   "pygments_lexer": "ipython3",
   "version": "3.10.8"
  }
 },
 "nbformat": 4,
 "nbformat_minor": 5
}
