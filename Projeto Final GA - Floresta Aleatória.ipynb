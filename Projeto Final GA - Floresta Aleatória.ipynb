{
 "cells": [
  {
   "cell_type": "markdown",
   "id": "bf482a06-006c-4812-8142-1691976a169e",
   "metadata": {
    "tags": []
   },
   "source": [
    "# Maximização de rendimento agrícola por algoritmos genéticos\n",
    "\n",
    "## Rendimento previsto por floresta aleatória\n",
    "\n",
    "Grupo: Emelyn Alves, João O. de A. Nascimento, Kayllany L. da S. Oliveira\n",
    "<br>\n",
    "Instituição: Ilum - Escola de Ciência\n",
    "<br>\n",
    "Professor: Daniel R. Cassar\n",
    "<br>\n",
    "Disciplina: Redes Neurais e Algoritmos Genéticos"
   ]
  },
  {
   "cell_type": "markdown",
   "id": "7bd7cf35-ee6b-4741-95bd-2d0b86a84bf3",
   "metadata": {
    "tags": []
   },
   "source": [
    "## Importando bibliotecas"
   ]
  },
  {
   "cell_type": "markdown",
   "id": "68714ed1-e8c4-450b-83ef-4abf68aba47b",
   "metadata": {},
   "source": [
    "Inicialmente, é necessária a importação de bibliotecas e/ou módulos. Isso garante que todas as dependências e ferramentas essenciais estejam disponíveis para execução correta e eficiente do código. "
   ]
  },
  {
   "cell_type": "code",
   "execution_count": 4,
   "id": "856eb3c8-a667-460c-98b2-3396ef71683c",
   "metadata": {},
   "outputs": [],
   "source": [
    "import pandas as pd\n",
    "import random\n",
    "\n",
    "from scipy.spatial.distance import cdist\n",
    "\n",
    "from sklearn.metrics import mean_squared_error\n",
    "from sklearn.ensemble import RandomForestRegressor\n",
    "\n",
    "import numpy as np\n",
    "from deap import base\n",
    "from deap import tools\n",
    "from deap import creator\n",
    "from deap.algorithms import eaSimple"
   ]
  },
  {
   "cell_type": "markdown",
   "id": "412eb841-7cb8-4f2f-abb0-a6b2df15065f",
   "metadata": {
    "tags": []
   },
   "source": [
    "## Tratando conjunto de dados"
   ]
  },
  {
   "cell_type": "markdown",
   "id": "57b865d7-42ac-4156-a458-77049fefa07d",
   "metadata": {},
   "source": [
    "Agora, carregamos nosso conjunto de dados por meio da biblioteca `pandas`. A partir dessa tabela será possível criar um modelo capaz de prever as melhores condição para ter um bom rendimento (saiba mais sobre o dataset no README).\n",
    "\n",
    "Importante ressaltar: os dados tabulados foram obtidos já separados em conjunto de treino (agricultural_yield_teste.csv) e teste (agricultural_yield_train.csv)."
   ]
  },
  {
   "cell_type": "code",
   "execution_count": 5,
   "id": "b4113db2-a053-4a18-a411-7f8771794952",
   "metadata": {},
   "outputs": [],
   "source": [
    "features = ['Soil_Quality', 'Seed_Variety', 'Fertilizer_Amount_kg_per_hectare', 'Sunny_Days', 'Rainfall_mm', 'Irrigation_Schedule']\n",
    "target = ['Yield_kg_per_hectare']\n",
    "\n",
    "df_teste = pd.read_csv(\"agricultural_yield_test.csv\")\n",
    "df_treino = pd.read_csv(\"agricultural_yield_train.csv\")\n",
    "\n",
    "df_teste = df_teste.reindex(features + target, axis=1) \n",
    "df_teste = df_teste.dropna()\n",
    "\n",
    "df_treino = df_treino.reindex(features + target, axis=1)\n",
    "df_treino = df_treino.dropna()"
   ]
  },
  {
   "cell_type": "markdown",
   "id": "11070461-d215-4853-bf8c-1f2a99561df7",
   "metadata": {},
   "source": [
    "Após importar dados e remover valores ausentes, podemos formar conjuntos de dados de treino e teste."
   ]
  },
  {
   "cell_type": "markdown",
   "id": "f96df773-8be5-485b-8288-7e41b4006717",
   "metadata": {
    "tags": []
   },
   "source": [
    "## Conjuntos de dados de treino e teste da floresta aleatória "
   ]
  },
  {
   "cell_type": "markdown",
   "id": "8e29bb9d-2696-4500-a63c-a82864ad32d9",
   "metadata": {},
   "source": [
    "Guardando os dados sem modificação para estudo da floresta aleatória: "
   ]
  },
  {
   "cell_type": "code",
   "execution_count": 6,
   "id": "f6149ab7-0a75-4580-903a-23157a43d4d0",
   "metadata": {},
   "outputs": [],
   "source": [
    "X_treino_floresta = df_treino.reindex(features, axis=1).values\n",
    "y_treino_floresta = df_treino.reindex(target, axis=1).values.ravel()\n",
    "\n",
    "X_teste_floresta = df_teste.reindex(features, axis=1).values\n",
    "y_teste_floresta = df_teste.reindex(target, axis=1).values.ravel()"
   ]
  },
  {
   "cell_type": "markdown",
   "id": "63d9e1be-6e45-470f-88af-4cbc96a1b6ed",
   "metadata": {
    "tags": []
   },
   "source": [
    "### Dados de treino"
   ]
  },
  {
   "cell_type": "code",
   "execution_count": 7,
   "id": "431e8881-4b02-440d-8e08-89173ecaf8fe",
   "metadata": {},
   "outputs": [
    {
     "data": {
      "text/plain": [
       "array([[ 96.4156574 ,   1.        , 147.85304019,  94.59392594,\n",
       "        444.26756885,   3.        ],\n",
       "       [ 92.35262586,   0.        , 281.56539608,  90.5046436 ,\n",
       "        517.58549117,   7.        ],\n",
       "       [ 63.71478519,   1.        , 137.86493988,  97.32934017,\n",
       "        420.3109448 ,   8.        ],\n",
       "       ...,\n",
       "       [ 67.47848719,   1.        , 120.01712248, 102.30862733,\n",
       "        514.3727475 ,   8.        ],\n",
       "       [ 85.17689046,   1.        , 247.84738886, 114.95663392,\n",
       "        695.03580096,   6.        ],\n",
       "       [ 87.8382803 ,   0.        , 244.21653603,  98.31373807,\n",
       "        590.79491539,   6.        ]])"
      ]
     },
     "execution_count": 7,
     "metadata": {},
     "output_type": "execute_result"
    }
   ],
   "source": [
    "X_treino_floresta"
   ]
  },
  {
   "cell_type": "code",
   "execution_count": 8,
   "id": "ce8636a8-c9c9-4dca-896d-07f60eeab1ae",
   "metadata": {},
   "outputs": [
    {
     "data": {
      "text/plain": [
       "array([683.75911882, 678.71486056, 934.69197491, ..., 932.82956077,\n",
       "       889.7384376 , 554.69838897])"
      ]
     },
     "execution_count": 8,
     "metadata": {},
     "output_type": "execute_result"
    }
   ],
   "source": [
    "y_treino_floresta"
   ]
  },
  {
   "cell_type": "markdown",
   "id": "2137388d-a4cf-43e2-9b4e-75f3bbed3c70",
   "metadata": {
    "tags": []
   },
   "source": [
    "### Dados de teste "
   ]
  },
  {
   "cell_type": "code",
   "execution_count": 9,
   "id": "ae9aaaca-e345-4654-86b8-99899c9aef39",
   "metadata": {},
   "outputs": [
    {
     "data": {
      "text/plain": [
       "array([[ 93.30472076,   0.        , 132.52221761,  96.67092181,\n",
       "        602.38623718,   3.        ],\n",
       "       [ 83.67465324,   1.        ,  57.28399706,  99.00755589,\n",
       "        466.51825061,   8.        ],\n",
       "       [ 65.96303292,   1.        , 227.89547903, 104.8442723 ,\n",
       "        510.32049549,   4.        ],\n",
       "       ...,\n",
       "       [ 94.14552167,   1.        , 196.47370358, 110.00347356,\n",
       "        458.24140783,   3.        ],\n",
       "       [ 61.45212028,   1.        ,  80.61835714,  97.81551671,\n",
       "        778.6525395 ,   4.        ],\n",
       "       [ 55.19590628,   0.        , 122.47323884,  90.31172043,\n",
       "        582.99900253,   4.        ]])"
      ]
     },
     "execution_count": 9,
     "metadata": {},
     "output_type": "execute_result"
    }
   ],
   "source": [
    "X_teste_floresta"
   ]
  },
  {
   "cell_type": "code",
   "execution_count": 10,
   "id": "dd355a59-44b0-46d8-bfd9-a7a4f1d37e7d",
   "metadata": {},
   "outputs": [
    {
     "data": {
      "text/plain": [
       "array([278.98656345, 836.43484043, 785.88178724, ..., 776.01363423,\n",
       "       502.31948382, 257.03254443])"
      ]
     },
     "execution_count": 10,
     "metadata": {},
     "output_type": "execute_result"
    }
   ],
   "source": [
    "y_teste_floresta"
   ]
  },
  {
   "cell_type": "markdown",
   "id": "595c3e17-16ff-4659-8124-c20981f1ac6c",
   "metadata": {
    "tags": []
   },
   "source": [
    "## Conversão de atributos em genes"
   ]
  },
  {
   "cell_type": "markdown",
   "id": "dee35073-f9d6-470e-b4bd-726c78f2899e",
   "metadata": {},
   "source": [
    "Célula abaixo transforma cada atributo do dataset em listas separadas para serem usados como genes: "
   ]
  },
  {
   "cell_type": "code",
   "execution_count": 11,
   "id": "8d72f52b-eb7a-44ba-a6b8-5a61a784e82e",
   "metadata": {},
   "outputs": [],
   "source": [
    "qualidade_solo = list(df_teste['Soil_Quality'])\n",
    "variedade_semente = list(df_teste['Seed_Variety'])\n",
    "fertilizante = list(df_teste['Fertilizer_Amount_kg_per_hectare'])\n",
    "dias_de_sol = list(df_teste['Sunny_Days'])\n",
    "chuva = list(df_teste['Rainfall_mm'])\n",
    "irrigação = list(df_teste['Irrigation_Schedule'])\n",
    "\n",
    "rendimento = list(df_teste['Yield_kg_per_hectare'])"
   ]
  },
  {
   "cell_type": "markdown",
   "id": "a0fe05f8-40af-481b-8847-8993334fa9b0",
   "metadata": {},
   "source": [
    "Abaixo, é criada uma lista que contém as listas geradas na célula anterior e obtendo os valores mínimos e máximos delas para criar uma nova lista com esses extremos. "
   ]
  },
  {
   "cell_type": "code",
   "execution_count": 12,
   "id": "ecf1839d-e608-4261-83b8-760509c23eb9",
   "metadata": {},
   "outputs": [
    {
     "name": "stdout",
     "output_type": "stream",
     "text": [
      "Tamanho lista: 12\n",
      "[50.00362248192461, 99.99889758903616, 0, 1, 50.06265491148749, 299.9920540908917, 66.72446890908668, 138.52020171941672, 102.0075178449252, 876.694216751489, 0, 15]\n"
     ]
    }
   ],
   "source": [
    "lista = [qualidade_solo, variedade_semente, fertilizante, dias_de_sol, chuva, irrigação]\n",
    "\n",
    "min_max = []\n",
    "\n",
    "for i in lista:\n",
    "    min_max.append(min(i))\n",
    "    min_max.append(max(i))\n",
    "\n",
    "print(\"Tamanho lista:\", len(min_max)) # Deve ser 6 x 2\n",
    "print(min_max)"
   ]
  },
  {
   "cell_type": "markdown",
   "id": "0aa58f5b-2116-4892-8ff9-bb73ffe79b9b",
   "metadata": {
    "tags": []
   },
   "source": [
    "## Floresta Aleatória"
   ]
  },
  {
   "cell_type": "markdown",
   "id": "b774a91e-c087-4c5f-8cda-2631bcba912e",
   "metadata": {},
   "source": [
    "As células abaixo contêm a árvore aleatória que foi criada para testar o algoritmo."
   ]
  },
  {
   "cell_type": "code",
   "execution_count": 13,
   "id": "d19c76aa-4197-4839-b586-a7cd1803627f",
   "metadata": {},
   "outputs": [],
   "source": [
    "SEMENTE_ALEATORIA = 61455\n",
    "\n",
    "modelo_fa = RandomForestRegressor(random_state=SEMENTE_ALEATORIA)"
   ]
  },
  {
   "cell_type": "code",
   "execution_count": 14,
   "id": "e9402123-6796-46d9-a043-944b05609678",
   "metadata": {},
   "outputs": [
    {
     "name": "stdout",
     "output_type": "stream",
     "text": [
      "O RMSE do modelo árvore de decisão foi de 54.89847461072623 unidades de y.\n"
     ]
    }
   ],
   "source": [
    "modelo_fa.fit(X_treino_floresta, y_treino_floresta)\n",
    "\n",
    "y_verdadeiro = y_teste_floresta\n",
    "y_previsao = modelo_fa.predict(X_teste_floresta)\n",
    "    \n",
    "RMSE = mean_squared_error(y_verdadeiro, y_previsao, squared=False)\n",
    "\n",
    "print(f\"O RMSE do modelo árvore de decisão foi de {RMSE} unidades de y.\")"
   ]
  },
  {
   "cell_type": "markdown",
   "id": "0969e291-7b54-4c15-866a-f5a9a59a6cca",
   "metadata": {},
   "source": [
    "Testando o modelo para o maior rendimento do dataframe de teste: "
   ]
  },
  {
   "cell_type": "code",
   "execution_count": 15,
   "id": "edf99bb3-a110-4cff-a6cc-0c1185882edc",
   "metadata": {},
   "outputs": [
    {
     "name": "stdout",
     "output_type": "stream",
     "text": [
      "[ 51.99126884   0.          66.6478779  100.72440418 454.76365482\n",
      "   4.        ]\n",
      "1406.1107054578508\n"
     ]
    }
   ],
   "source": [
    "num = max(rendimento)\n",
    "\n",
    "indice = rendimento.index(num)\n",
    "\n",
    "linha = indice\n",
    "individuo = df_treino.iloc[linha,:-1].values\n",
    "\n",
    "print(individuo)\n",
    "print(rendimento[indice])"
   ]
  },
  {
   "cell_type": "code",
   "execution_count": 16,
   "id": "7c6d6773-f96f-4ca5-887a-8eb8d071c130",
   "metadata": {},
   "outputs": [
    {
     "name": "stdout",
     "output_type": "stream",
     "text": [
      "[ 51.99126884   0.          66.6478779  100.72440418 454.76365482\n",
      "   4.        ]\n",
      "[384.92875313]\n"
     ]
    }
   ],
   "source": [
    "print(individuo)\n",
    "y_previsto = modelo_fa.predict([individuo])\n",
    "\n",
    "print(y_previsto)"
   ]
  },
  {
   "cell_type": "markdown",
   "id": "9c778772-3f55-4b68-a332-0ba0fe3c7907",
   "metadata": {
    "tags": []
   },
   "source": [
    "### Usando módulo DEAP para algoritmo genético"
   ]
  },
  {
   "cell_type": "markdown",
   "id": "c64fb07f-6984-48ff-af4b-51db3cb604b5",
   "metadata": {
    "tags": []
   },
   "source": [
    "Definindo hiperparâmetros: "
   ]
  },
  {
   "cell_type": "code",
   "execution_count": 17,
   "id": "4bcb11d8-1757-41c6-9471-3c0f799928fd",
   "metadata": {},
   "outputs": [],
   "source": [
    "TAMANHO_POPULACAO = 100\n",
    "NUM_GERACOES = 150\n",
    "CHANCE_DE_CRUZAMENTO = 0.5\n",
    "CHANCE_DE_MUTACAO = 0.5\n",
    "TAMANHO_TORNEIO = 5\n",
    "TAMANHO_HALL_DA_FAMA = 1"
   ]
  },
  {
   "cell_type": "markdown",
   "id": "f4db8477-eb59-4739-b9c3-3c84dd075d04",
   "metadata": {},
   "source": [
    "Construindo um conjunto de ferramentas:"
   ]
  },
  {
   "cell_type": "code",
   "execution_count": 18,
   "id": "ba528a2e-58fd-43a7-9eba-6ae65a46190d",
   "metadata": {
    "tags": []
   },
   "outputs": [],
   "source": [
    "toolbox = base.Toolbox()"
   ]
  },
  {
   "cell_type": "markdown",
   "id": "d4ca9ee5-4849-413e-ab4e-b57851e1edbd",
   "metadata": {},
   "source": [
    "Observando mínimos e máximos de cada atributo do conjunto de dados:"
   ]
  },
  {
   "cell_type": "code",
   "execution_count": 19,
   "id": "15ed3297-958d-4f32-b7f6-e7f923537510",
   "metadata": {},
   "outputs": [
    {
     "name": "stdout",
     "output_type": "stream",
     "text": [
      "Soil_Quality -> Min = 50.00362248192461 / Max = 99.99889758903616\n",
      "\n",
      "Seed_Variety -> Min = 0 / Max = 1\n",
      "\n",
      "Fertilizer_Amount_kg_per_hectare -> Min = 50.06265491148749 / Max = 299.9920540908917\n",
      "\n",
      "Sunny_Days -> Min = 66.72446890908668 / Max = 138.52020171941672\n",
      "\n",
      "Rainfall_mm -> Min = 102.0075178449252 / Max = 876.694216751489\n",
      "\n",
      "Irrigation_Schedule -> Min = 0 / Max = 15\n",
      "\n"
     ]
    }
   ],
   "source": [
    "i = 0\n",
    "j = 0\n",
    "\n",
    "for _ in range(6):\n",
    "    print(features[i], '-> Min =', min_max[j], '/ Max =', min_max[j+1])\n",
    "    print()\n",
    "    i += 1\n",
    "    j += 2"
   ]
  },
  {
   "cell_type": "markdown",
   "id": "d475edd6-e17a-4b95-ad14-6b848199a4a2",
   "metadata": {},
   "source": [
    "Imprimindo a lista onde todos eles estão armazenados:"
   ]
  },
  {
   "cell_type": "code",
   "execution_count": 20,
   "id": "e581ca64-36ea-4dce-bea8-410320190162",
   "metadata": {},
   "outputs": [
    {
     "name": "stdout",
     "output_type": "stream",
     "text": [
      "[50.00362248192461, 99.99889758903616, 0, 1, 50.06265491148749, 299.9920540908917, 66.72446890908668, 138.52020171941672, 102.0075178449252, 876.694216751489, 0, 15]\n"
     ]
    }
   ],
   "source": [
    "print(min_max)"
   ]
  },
  {
   "cell_type": "markdown",
   "id": "7dc82294-26ec-4d09-9363-d6fef932ddbb",
   "metadata": {
    "tags": []
   },
   "source": [
    "Definição de uma função para cada gene:\n",
    "\n",
    "* Esse passo foi realizado com o objetivo de restringir as possíveis escolhas que poderiam ser realizadas pelo módulo random. Assim, os valores obtidos estarão entre os valores mínimos e mácimos do conjunto de dados sintéticos original. "
   ]
  },
  {
   "cell_type": "code",
   "execution_count": 21,
   "id": "9e795937-00b9-46da-9955-2cf6244f960b",
   "metadata": {},
   "outputs": [],
   "source": [
    "def gene_soil_quality():\n",
    "    return random.uniform(min_max[0], min_max[1])\n",
    "\n",
    "def gene_seed_variety():\n",
    "    return random.choice([min_max[2], min_max[3]])\n",
    "\n",
    "def gene_fertilizer_amount():\n",
    "    return random.uniform(min_max[4], min_max[5])\n",
    "\n",
    "def gene_sunny_days():\n",
    "    return random.uniform(min_max[6], min_max[7])\n",
    "\n",
    "def gene_rainfall():\n",
    "    return random.uniform(min_max[8], min_max[9])\n",
    "\n",
    "def gene_irrigation_schedule():\n",
    "    return random.randint(int(min_max[10]), int(min_max[11]))"
   ]
  },
  {
   "cell_type": "markdown",
   "id": "9779c22e-f0f5-411a-9d96-5ca5d975a0a5",
   "metadata": {},
   "source": [
    "Registrando os genes no toolbox"
   ]
  },
  {
   "cell_type": "code",
   "execution_count": 22,
   "id": "f4ce5607-b7c8-47a9-b5ab-a32daa092d15",
   "metadata": {},
   "outputs": [],
   "source": [
    "toolbox.register(\"gene_soil_quality\", gene_soil_quality)\n",
    "toolbox.register(\"gene_seed_variety\", gene_seed_variety)\n",
    "toolbox.register(\"gene_fertilizer_amount\", gene_fertilizer_amount)\n",
    "toolbox.register(\"gene_sunny_days\", gene_sunny_days)\n",
    "toolbox.register(\"gene_rainfall\", gene_rainfall)\n",
    "toolbox.register(\"gene_irrigation_schedule\", gene_irrigation_schedule)"
   ]
  },
  {
   "cell_type": "markdown",
   "id": "0d53b516-67a5-4d6c-9677-a3538a894380",
   "metadata": {},
   "source": [
    "Criação de duas classes, uma para maximização e outra para a geração dos indivíduos."
   ]
  },
  {
   "cell_type": "code",
   "execution_count": 23,
   "id": "baf9642c-c9b3-46c4-8e6d-3731bd3a0c55",
   "metadata": {},
   "outputs": [],
   "source": [
    "creator.create(\"FitnessMax\", base.Fitness, weights=(1.0,))\n",
    "creator.create(\"Individuo\", list, fitness=creator.FitnessMax)"
   ]
  },
  {
   "cell_type": "markdown",
   "id": "293fa95a-5500-4869-bce0-b74ed69a6c93",
   "metadata": {},
   "source": [
    "Estabelecendo a função para a criação dos nossos indivíduos."
   ]
  },
  {
   "cell_type": "code",
   "execution_count": 24,
   "id": "ea6c7afc-25df-4153-a646-720643777c67",
   "metadata": {},
   "outputs": [],
   "source": [
    "def cria_individuo():\n",
    "    return creator.Individuo([\n",
    "        toolbox.gene_soil_quality(),\n",
    "        toolbox.gene_seed_variety(),\n",
    "        toolbox.gene_fertilizer_amount(),\n",
    "        toolbox.gene_sunny_days(),\n",
    "        toolbox.gene_rainfall(),\n",
    "        toolbox.gene_irrigation_schedule()\n",
    "    ])"
   ]
  },
  {
   "cell_type": "markdown",
   "id": "5e6c9ad6-236c-40fb-b275-f577e54db4b7",
   "metadata": {},
   "source": [
    "Testando a função de criação de indivíduos:"
   ]
  },
  {
   "cell_type": "code",
   "execution_count": 25,
   "id": "c5c4af65-3b83-438b-b0a6-0fdeccf45d27",
   "metadata": {},
   "outputs": [
    {
     "name": "stdout",
     "output_type": "stream",
     "text": [
      "[55.52971135391702, 0, 65.25876191367958, 98.11646742245712, 638.8355518612814, 13]\n"
     ]
    }
   ],
   "source": [
    "individuo_teste = cria_individuo()\n",
    "\n",
    "print(individuo_teste)"
   ]
  },
  {
   "cell_type": "markdown",
   "id": "f4c376cf-c09c-4b54-a2e5-02a3becd0556",
   "metadata": {},
   "source": [
    "Definindo a função que especifica o tipo de mutação de cada gene: "
   ]
  },
  {
   "cell_type": "code",
   "execution_count": 26,
   "id": "85664c42-1b13-4218-a51d-6e42837153b0",
   "metadata": {},
   "outputs": [],
   "source": [
    "def mutacao_personalizada(individuo, chance_de_mutacao, min_max_list):\n",
    "    \n",
    "    min_max = min_max_list\n",
    "        \n",
    "    for gene in range(len(individuo)):\n",
    "        if random.random() < chance_de_mutacao:\n",
    "            if gene == 0:\n",
    "                individuo[gene] = random.uniform(min_max[0], min_max[1])\n",
    "            elif gene == 1:\n",
    "                individuo[gene] = 0 if individuo[gene] == 1 else 1\n",
    "            elif gene == 2:\n",
    "                individuo[gene] = random.uniform(min_max[4], min_max[5])\n",
    "            elif gene == 3:\n",
    "                individuo[gene] = random.uniform(min_max[6], min_max[7])\n",
    "            elif gene == 4:\n",
    "                individuo[gene] = random.uniform(min_max[8], min_max[9])\n",
    "            elif gene == 5:\n",
    "                individuo[gene] = random.randint(int(min_max[10]), int(min_max[11]))\n",
    "        \n",
    "    return (individuo, )"
   ]
  },
  {
   "cell_type": "markdown",
   "id": "3fe491f0-e0f0-4e4f-8cf3-736c8746858b",
   "metadata": {},
   "source": [
    "Criação e teste da função objetivo usada em nosso algoritmo:"
   ]
  },
  {
   "cell_type": "code",
   "execution_count": 27,
   "id": "db67b9f7-aecf-482d-8f9b-b17b898dad2e",
   "metadata": {},
   "outputs": [],
   "source": [
    "def funcao_objetivo_floresta(individuo):\n",
    "    \n",
    "    # Realizar a predição\n",
    "    individuo = np.array(individuo).reshape(1, -1)  # Adicionar dimensão de batch\n",
    "    y_previsao = modelo_fa.predict(individuo)\n",
    "    \n",
    "    # Calcular a distância de Manhattan entre y_pred e todos os valores de y_true \n",
    "    y_prev_val = y_previsao[0]\n",
    "    y_true_vals = y_teste_floresta.reshape(-1, 1)\n",
    "    distances = cdist([[y_prev_val]], y_true_vals, metric='cityblock')\n",
    "    \n",
    "    # Verificar a menor distância\n",
    "    min_distance = distances.min()\n",
    "    if min_distance > 500:\n",
    "        y_prev_val = 0\n",
    "    \n",
    "    return (y_prev_val, )"
   ]
  },
  {
   "cell_type": "markdown",
   "id": "9a832267-c36d-424b-a406-8706b66f80c1",
   "metadata": {},
   "source": [
    "Nesta célula, a função objetivo é adicionada como uma ferramenta de evolução na caixa de ferramentas."
   ]
  },
  {
   "cell_type": "code",
   "execution_count": 28,
   "id": "1a1e3528-c59e-4d5e-9716-38849ca02bc2",
   "metadata": {},
   "outputs": [],
   "source": [
    "toolbox.register(\"evaluate\", funcao_objetivo_floresta)"
   ]
  },
  {
   "cell_type": "markdown",
   "id": "a69f62cb-c276-4935-bc9e-f4d3454a3c87",
   "metadata": {},
   "source": [
    "Nesta célula, algumas funções e parâmetros são armazenados na caixa de ferramentas. Além disso, ela cria o \"hall da fama\", as estatísticas e a população inicial do algoritmo."
   ]
  },
  {
   "cell_type": "code",
   "execution_count": 29,
   "id": "ebce1b3a-b8da-4015-a277-43a5d7a5bb17",
   "metadata": {},
   "outputs": [],
   "source": [
    "toolbox.register(\"cria_individuo\", cria_individuo)\n",
    "toolbox.register(\"populacao\", tools.initRepeat, list, toolbox.cria_individuo, TAMANHO_POPULACAO)\n",
    "toolbox.register(\"select\", tools.selTournament, tournsize=TAMANHO_TORNEIO)\n",
    "toolbox.register(\"mate\", tools.cxUniform, indpb=0.5)\n",
    "\n",
    "toolbox.register(\n",
    "    \"mutate\",\n",
    "    mutacao_personalizada,\n",
    "    chance_de_mutacao = CHANCE_DE_MUTACAO,\n",
    "    min_max_list = min_max\n",
    ")\n",
    "\n",
    "hall_da_fama_FA = tools.HallOfFame(TAMANHO_HALL_DA_FAMA)\n",
    "\n",
    "estatisticas_FA = tools.Statistics(lambda ind: ind.fitness.values)\n",
    "estatisticas_FA.register(\"média\", np.mean)\n",
    "estatisticas_FA.register(\"desv. padrão\", np.std)\n",
    "estatisticas_FA.register(\"min\", np.min)\n",
    "estatisticas_FA.register(\"max\", np.max)\n",
    "\n",
    "populacao_inicial_FA = toolbox.populacao()"
   ]
  },
  {
   "cell_type": "markdown",
   "id": "2e834557-9abf-4a85-8a09-fd68abc4411c",
   "metadata": {},
   "source": [
    "Esta célula executa o algoritmo várias vezes e cria uma população final com os indivíduos do \"hall da fama\"."
   ]
  },
  {
   "cell_type": "code",
   "execution_count": 30,
   "id": "8be3c2a2-f1d5-4644-9005-b2489c554169",
   "metadata": {},
   "outputs": [
    {
     "name": "stdout",
     "output_type": "stream",
     "text": [
      "gen\tnevals\tmédia  \tdesv. padrão\tmin    \tmax   \n",
      "0  \t100   \t808.313\t267.632     \t227.156\t1325.6\n",
      "1  \t74    \t1009.87\t246.008     \t243.292\t1325.74\n",
      "2  \t77    \t1059.49\t270.092     \t223.321\t1329.87\n",
      "3  \t72    \t1060.62\t268.17      \t424.178\t1329.87\n",
      "4  \t72    \t1146.53\t246.233     \t320.325\t1334.03\n",
      "5  \t81    \t1133.17\t249.777     \t352.368\t1333.08\n",
      "6  \t76    \t1078.74\t310.56      \t269.61 \t1337.3 \n",
      "7  \t77    \t1164.19\t245.255     \t427.944\t1337.3 \n",
      "8  \t76    \t1129.75\t271.391     \t269.839\t1342.09\n",
      "9  \t72    \t1184.39\t219.8       \t531.812\t1345.01\n",
      "10 \t74    \t1181.06\t230.656     \t312.563\t1345.09\n",
      "11 \t78    \t1144.39\t272.575     \t137.32 \t1345.09\n",
      "12 \t78    \t1168.42\t245.162     \t426.455\t1345.09\n",
      "13 \t68    \t1166.39\t250.173     \t280.63 \t1345.09\n",
      "14 \t85    \t1168.07\t241.325     \t458.785\t1345.09\n",
      "15 \t76    \t1170.75\t245.881     \t476.425\t1345.09\n",
      "16 \t67    \t1183.95\t241.77      \t406.33 \t1345.09\n",
      "17 \t73    \t1198.99\t243.613     \t185.375\t1345.09\n",
      "18 \t73    \t1163.36\t258.958     \t337.289\t1345.09\n",
      "19 \t86    \t1107.25\t297.134     \t118.465\t1349.58\n",
      "20 \t69    \t1194.64\t255.05      \t192.132\t1349.58\n",
      "21 \t60    \t1188   \t264.466     \t188.789\t1349.58\n",
      "22 \t72    \t1154.65\t268.135     \t332.575\t1349.58\n",
      "23 \t79    \t1180.61\t210.731     \t350.094\t1349.58\n",
      "24 \t70    \t1165.39\t250.596     \t329.539\t1349.58\n",
      "25 \t76    \t1148.2 \t290.479     \t214.786\t1349.58\n",
      "26 \t71    \t1166.55\t270.103     \t347.533\t1349.58\n",
      "27 \t74    \t1165.51\t239.635     \t483.576\t1349.58\n",
      "28 \t73    \t1162.59\t254.023     \t438.529\t1349.58\n",
      "29 \t78    \t1107.61\t312.965     \t312.812\t1349.58\n",
      "30 \t72    \t1135.36\t246.13      \t353.331\t1349.58\n",
      "31 \t71    \t1157.63\t257.833     \t292.976\t1349.58\n",
      "32 \t74    \t1127.67\t285.914     \t284.841\t1349.58\n",
      "33 \t80    \t1120.33\t272.123     \t240.87 \t1349.58\n",
      "34 \t74    \t1218.81\t217.068     \t513.355\t1349.58\n",
      "35 \t78    \t1163.92\t250.785     \t374.173\t1350.53\n",
      "36 \t76    \t1176.79\t224.747     \t500.913\t1350.53\n",
      "37 \t82    \t1134.72\t268.423     \t378.746\t1350.53\n",
      "38 \t74    \t1144.79\t251.159     \t363.324\t1350.53\n",
      "39 \t66    \t1172.7 \t251.732     \t413.812\t1350.53\n",
      "40 \t78    \t1187.08\t232.951     \t188.609\t1350.53\n",
      "41 \t80    \t1157.52\t222.339     \t502.761\t1350.53\n",
      "42 \t72    \t1153.69\t261.039     \t366.986\t1350.53\n",
      "43 \t71    \t1130.34\t291.578     \t217.165\t1350.53\n",
      "44 \t74    \t1169.63\t251.817     \t390.526\t1350.53\n",
      "45 \t78    \t1142.54\t278.195     \t239.919\t1350.53\n",
      "46 \t78    \t1154.43\t253.389     \t353.605\t1350.53\n",
      "47 \t75    \t1190.1 \t273.931     \t327.797\t1350.53\n",
      "48 \t83    \t1146.7 \t251.974     \t357.267\t1350.53\n",
      "49 \t68    \t1157.19\t272.65      \t212.616\t1350.53\n",
      "50 \t71    \t1177.83\t256.526     \t327.02 \t1350.53\n",
      "51 \t77    \t1204.58\t219.738     \t480.112\t1350.53\n",
      "52 \t73    \t1138.44\t259.74      \t391.572\t1350.53\n",
      "53 \t66    \t1195.58\t225.174     \t495.029\t1350.53\n",
      "54 \t70    \t1167.97\t262.984     \t313.646\t1350.53\n",
      "55 \t74    \t1182.27\t244.257     \t385.696\t1350.53\n",
      "56 \t84    \t1148.13\t248.058     \t301.965\t1350.53\n",
      "57 \t67    \t1180.26\t244.862     \t481.366\t1350.53\n",
      "58 \t73    \t1163.14\t241.088     \t496.68 \t1350.53\n",
      "59 \t75    \t1166.81\t241.635     \t404.138\t1350.53\n",
      "60 \t72    \t1159.63\t257.452     \t250.83 \t1350.53\n",
      "61 \t69    \t1167.08\t259.827     \t250.61 \t1350.53\n",
      "62 \t73    \t1208.07\t217.194     \t303.826\t1350.53\n",
      "63 \t72    \t1192.84\t239.508     \t372.494\t1350.53\n",
      "64 \t77    \t1143.74\t277.778     \t327.24 \t1350.53\n",
      "65 \t74    \t1165.71\t282.512     \t200.101\t1350.53\n",
      "66 \t75    \t1186.48\t238.337     \t497.893\t1350.53\n",
      "67 \t71    \t1163.81\t263.198     \t479.105\t1350.53\n",
      "68 \t67    \t1171.79\t254.07      \t275.857\t1350.53\n",
      "69 \t79    \t1187.46\t224.545     \t413.541\t1350.74\n",
      "70 \t74    \t1121.96\t296.122     \t408.246\t1350.53\n",
      "71 \t80    \t1153.86\t257.328     \t329.109\t1350.53\n",
      "72 \t84    \t1128.52\t279.227     \t435.489\t1350.53\n",
      "73 \t74    \t1174.45\t225.776     \t518.562\t1350.53\n",
      "74 \t67    \t1169.23\t262.646     \t376.591\t1350.53\n",
      "75 \t68    \t1122.62\t276.793     \t360.381\t1350.53\n",
      "76 \t75    \t1117.59\t299.797     \t196.583\t1350.53\n",
      "77 \t65    \t1163.9 \t255.675     \t397.084\t1350.53\n",
      "78 \t65    \t1215.3 \t221.562     \t436.855\t1350.53\n",
      "79 \t83    \t1135.59\t264.431     \t398.231\t1350.53\n",
      "80 \t86    \t1147.77\t272.932     \t281.128\t1350.53\n",
      "81 \t70    \t1173.58\t260.789     \t367.109\t1350.53\n",
      "82 \t70    \t1147.07\t258.623     \t480.939\t1350.53\n",
      "83 \t82    \t1127.27\t262.692     \t378.512\t1350.53\n",
      "84 \t72    \t1171.64\t235.972     \t478.578\t1350.53\n",
      "85 \t78    \t1149.78\t266.377     \t159.383\t1350.53\n",
      "86 \t66    \t1202.93\t232.97      \t343.347\t1350.53\n",
      "87 \t76    \t1172.87\t248.193     \t359.757\t1350.53\n",
      "88 \t76    \t1160.43\t250.069     \t253.023\t1350.53\n",
      "89 \t76    \t1147.21\t270.835     \t369.013\t1350.53\n",
      "90 \t79    \t1141.55\t266.761     \t348.273\t1350.53\n",
      "91 \t76    \t1152.21\t275.761     \t278.703\t1350.53\n",
      "92 \t81    \t1187.05\t240.656     \t485.279\t1350.53\n",
      "93 \t73    \t1175.21\t263.413     \t263.237\t1350.53\n",
      "94 \t84    \t1140.93\t253.519     \t446.44 \t1350.53\n",
      "95 \t76    \t1154   \t274.548     \t263.91 \t1350.53\n",
      "96 \t74    \t1177.34\t244.64      \t316.165\t1350.53\n",
      "97 \t69    \t1195.94\t220.135     \t332.854\t1350.53\n",
      "98 \t70    \t1179.1 \t251.688     \t356.973\t1350.53\n",
      "99 \t75    \t1174.76\t253.857     \t379.561\t1350.74\n",
      "100\t82    \t1146.68\t247.146     \t304.428\t1350.74\n",
      "101\t77    \t1134.86\t257.515     \t390.628\t1350.74\n",
      "102\t77    \t1128.17\t289.488     \t200.046\t1350.74\n",
      "103\t80    \t1133.61\t263.612     \t408.136\t1350.74\n",
      "104\t79    \t1157.03\t246.558     \t450.741\t1350.74\n",
      "105\t81    \t1160.89\t237.7       \t432.495\t1350.74\n",
      "106\t64    \t1118.12\t290.854     \t306.483\t1350.74\n",
      "107\t71    \t1178.55\t239.88      \t488.82 \t1350.74\n",
      "108\t74    \t1225.43\t205.916     \t482.333\t1350.74\n",
      "109\t74    \t1174.6 \t226.925     \t496.239\t1350.74\n",
      "110\t65    \t1187.38\t237.731     \t351.235\t1350.74\n",
      "111\t77    \t1145.97\t266.938     \t174.744\t1350.74\n",
      "112\t77    \t1174.82\t248.964     \t396.602\t1350.74\n",
      "113\t74    \t1136.01\t278.395     \t243.661\t1350.74\n",
      "114\t72    \t1171.44\t243.142     \t410.96 \t1350.74\n",
      "115\t76    \t1148.38\t275.5       \t243.073\t1350.74\n",
      "116\t79    \t1170.13\t245.378     \t437.493\t1350.74\n",
      "117\t77    \t1170.33\t249.567     \t379.554\t1350.74\n",
      "118\t77    \t1203.23\t235.701     \t321.805\t1350.74\n",
      "119\t73    \t1131.92\t286.209     \t248.615\t1350.74\n",
      "120\t73    \t1186.3 \t249.312     \t375.975\t1350.74\n",
      "121\t72    \t1190.92\t243.697     \t249.366\t1351.89\n",
      "122\t76    \t1152.37\t268.262     \t333.17 \t1351.89\n",
      "123\t77    \t1195.73\t214.825     \t513.376\t1351.89\n",
      "124\t77    \t1136.9 \t289.699     \t363.993\t1351.89\n",
      "125\t76    \t1153.35\t277.852     \t330.384\t1351.89\n",
      "126\t76    \t1162.29\t239.446     \t551.611\t1351.89\n",
      "127\t76    \t1217.07\t217.521     \t490.132\t1351.89\n",
      "128\t73    \t1200.57\t234.037     \t544.732\t1351.89\n",
      "129\t74    \t1166.26\t247.747     \t400.736\t1351.89\n",
      "130\t66    \t1184.5 \t241.326     \t519.555\t1351.89\n",
      "131\t78    \t1140.12\t256.64      \t284.774\t1351.89\n",
      "132\t65    \t1163.22\t245.979     \t552.415\t1351.89\n",
      "133\t76    \t1186.44\t216.817     \t550.806\t1351.89\n",
      "134\t85    \t1192.76\t237.393     \t328.09 \t1351.89\n",
      "135\t72    \t1128.11\t261.444     \t322.898\t1351.89\n",
      "136\t73    \t1140.28\t290.371     \t286.042\t1351.89\n",
      "137\t74    \t1138.16\t284.482     \t194.998\t1351.89\n",
      "138\t64    \t1226.59\t210.899     \t515.099\t1351.89\n",
      "139\t70    \t1168.06\t258.521     \t488.811\t1351.89\n",
      "140\t80    \t1136.87\t255.348     \t361.472\t1351.89\n",
      "141\t79    \t1145.22\t284.343     \t298.276\t1351.89\n",
      "142\t68    \t1206.31\t229.379     \t163.942\t1351.89\n",
      "143\t75    \t1171.16\t231.237     \t477.67 \t1351.89\n",
      "144\t85    \t1175.07\t250.365     \t294.597\t1351.89\n",
      "145\t70    \t1157.52\t264.111     \t413.614\t1351.89\n",
      "146\t73    \t1149.76\t268.503     \t409.047\t1351.89\n",
      "147\t71    \t1136.91\t272.389     \t311.449\t1351.89\n",
      "148\t78    \t1150.49\t278.546     \t224.095\t1351.89\n",
      "149\t69    \t1158.6 \t255.531     \t432.636\t1351.89\n",
      "150\t74    \t1212.35\t226.455     \t460.091\t1351.89\n"
     ]
    }
   ],
   "source": [
    "populacao_final_FA, log_FA = eaSimple(\n",
    "    populacao_inicial_FA,\n",
    "    toolbox,\n",
    "    cxpb=CHANCE_DE_CRUZAMENTO,\n",
    "    mutpb=CHANCE_DE_MUTACAO,\n",
    "    ngen=NUM_GERACOES,\n",
    "    stats=estatisticas_FA,\n",
    "    halloffame=hall_da_fama_FA,\n",
    "    verbose=True,\n",
    ")"
   ]
  },
  {
   "cell_type": "markdown",
   "id": "f13097d3-d166-4d89-8a03-c4a53c240121",
   "metadata": {},
   "source": [
    "Imprime os parâmetros do vencedor: "
   ]
  },
  {
   "cell_type": "code",
   "execution_count": 31,
   "id": "13a206df-b89e-492c-8c9b-16c7a80fb614",
   "metadata": {},
   "outputs": [
    {
     "name": "stdout",
     "output_type": "stream",
     "text": [
      "[[70.16680388561842, 1, 292.7155314314829, 115.84271791206353, 165.8286567904463, 14]]\n"
     ]
    }
   ],
   "source": [
    "print(hall_da_fama_FA.items)"
   ]
  },
  {
   "cell_type": "markdown",
   "id": "c112f348-4829-4605-84ae-835294e1a409",
   "metadata": {},
   "source": [
    "Comparação entre indivíduo vencedor com o valor previsto de y:"
   ]
  },
  {
   "cell_type": "code",
   "execution_count": null,
   "id": "531d1184-d552-421c-a415-add57db1f8ed",
   "metadata": {},
   "outputs": [
    {
     "name": "stdout",
     "output_type": "stream",
     "text": [
      "[[ 70.16680389   1.         292.71553143 115.84271791 165.82865679\n",
      "   14.        ]]\n",
      "A previsão máxima de rendimento encontrada foi: 1351.8934062229985\n"
     ]
    }
   ],
   "source": [
    "hall_da_fama_FA = np.array(hall_da_fama_FA).reshape(1, -1)\n",
    "print(hall_da_fama_FA)\n",
    "y_previsao = modelo_fa.predict(hall_da_fama_FA)\n",
    "    \n",
    "print(f\"A previsão máxima de rendimento encontrada foi: {y_previsao[0]}\")"
   ]
  }
 ],
 "metadata": {
  "kernelspec": {
   "display_name": "ilumpy",
   "language": "python",
   "name": "ilumpy"
  },
  "language_info": {
   "codemirror_mode": {
    "name": "ipython",
    "version": 3
   },
   "file_extension": ".py",
   "mimetype": "text/x-python",
   "name": "python",
   "nbconvert_exporter": "python",
   "pygments_lexer": "ipython3",
   "version": "3.10.8"
  }
 },
 "nbformat": 4,
 "nbformat_minor": 5
}
