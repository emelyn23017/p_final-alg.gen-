{
 "cells": [
  {
   "cell_type": "code",
   "execution_count": 1,
   "id": "856eb3c8-a667-460c-98b2-3396ef71683c",
   "metadata": {},
   "outputs": [],
   "source": [
    "import pandas as pd\n",
    "import random\n",
    "import matplotlib.pyplot as plt\n",
    "\n",
    "from scipy.spatial.distance import cdist\n",
    "\n",
    "from sklearn.metrics import mean_squared_error\n",
    "from sklearn.ensemble import RandomForestRegressor\n",
    "\n",
    "import numpy as np\n",
    "from deap import base\n",
    "from deap import tools\n",
    "from deap import creator\n",
    "from deap.algorithms import eaSimple"
   ]
  },
  {
   "cell_type": "code",
   "execution_count": 2,
   "id": "b4113db2-a053-4a18-a411-7f8771794952",
   "metadata": {},
   "outputs": [],
   "source": [
    "features = ['Soil_Quality', 'Seed_Variety', 'Fertilizer_Amount_kg_per_hectare', 'Sunny_Days', 'Rainfall_mm', 'Irrigation_Schedule']\n",
    "target = ['Yield_kg_per_hectare']\n",
    "\n",
    "df_teste = pd.read_csv(\"agricultural_yield_test.csv\")\n",
    "df_treino = pd.read_csv(\"agricultural_yield_train.csv\")\n",
    "\n",
    "df_teste = df_teste.reindex(features + target, axis=1) \n",
    "df_teste = df_teste.dropna()\n",
    "\n",
    "df_treino = df_treino.reindex(features + target, axis=1)\n",
    "df_treino = df_treino.dropna()"
   ]
  },
  {
   "cell_type": "code",
   "execution_count": 3,
   "id": "f6149ab7-0a75-4580-903a-23157a43d4d0",
   "metadata": {},
   "outputs": [],
   "source": [
    "X_treino_floresta = df_treino.reindex(features, axis=1).values\n",
    "y_treino_floresta = df_treino.reindex(target, axis=1).values.ravel()\n",
    "\n",
    "X_teste_floresta = df_teste.reindex(features, axis=1).values\n",
    "y_teste_floresta = df_teste.reindex(target, axis=1).values.ravel()"
   ]
  },
  {
   "cell_type": "code",
   "execution_count": 4,
   "id": "431e8881-4b02-440d-8e08-89173ecaf8fe",
   "metadata": {},
   "outputs": [
    {
     "data": {
      "text/plain": [
       "array([[ 96.4156574 ,   1.        , 147.85304019,  94.59392594,\n",
       "        444.26756885,   3.        ],\n",
       "       [ 92.35262586,   0.        , 281.56539608,  90.5046436 ,\n",
       "        517.58549117,   7.        ],\n",
       "       [ 63.71478519,   1.        , 137.86493988,  97.32934017,\n",
       "        420.3109448 ,   8.        ],\n",
       "       ...,\n",
       "       [ 67.47848719,   1.        , 120.01712248, 102.30862733,\n",
       "        514.3727475 ,   8.        ],\n",
       "       [ 85.17689046,   1.        , 247.84738886, 114.95663392,\n",
       "        695.03580096,   6.        ],\n",
       "       [ 87.8382803 ,   0.        , 244.21653603,  98.31373807,\n",
       "        590.79491539,   6.        ]])"
      ]
     },
     "execution_count": 4,
     "metadata": {},
     "output_type": "execute_result"
    }
   ],
   "source": [
    "X_treino_floresta"
   ]
  },
  {
   "cell_type": "code",
   "execution_count": 5,
   "id": "ce8636a8-c9c9-4dca-896d-07f60eeab1ae",
   "metadata": {},
   "outputs": [
    {
     "data": {
      "text/plain": [
       "array([683.75911882, 678.71486056, 934.69197491, ..., 932.82956077,\n",
       "       889.7384376 , 554.69838897])"
      ]
     },
     "execution_count": 5,
     "metadata": {},
     "output_type": "execute_result"
    }
   ],
   "source": [
    "y_treino_floresta"
   ]
  },
  {
   "cell_type": "code",
   "execution_count": 6,
   "id": "ae9aaaca-e345-4654-86b8-99899c9aef39",
   "metadata": {},
   "outputs": [
    {
     "data": {
      "text/plain": [
       "array([[ 93.30472076,   0.        , 132.52221761,  96.67092181,\n",
       "        602.38623718,   3.        ],\n",
       "       [ 83.67465324,   1.        ,  57.28399706,  99.00755589,\n",
       "        466.51825061,   8.        ],\n",
       "       [ 65.96303292,   1.        , 227.89547903, 104.8442723 ,\n",
       "        510.32049549,   4.        ],\n",
       "       ...,\n",
       "       [ 94.14552167,   1.        , 196.47370358, 110.00347356,\n",
       "        458.24140783,   3.        ],\n",
       "       [ 61.45212028,   1.        ,  80.61835714,  97.81551671,\n",
       "        778.6525395 ,   4.        ],\n",
       "       [ 55.19590628,   0.        , 122.47323884,  90.31172043,\n",
       "        582.99900253,   4.        ]])"
      ]
     },
     "execution_count": 6,
     "metadata": {},
     "output_type": "execute_result"
    }
   ],
   "source": [
    "X_teste_floresta"
   ]
  },
  {
   "cell_type": "code",
   "execution_count": 7,
   "id": "dd355a59-44b0-46d8-bfd9-a7a4f1d37e7d",
   "metadata": {},
   "outputs": [
    {
     "data": {
      "text/plain": [
       "array([278.98656345, 836.43484043, 785.88178724, ..., 776.01363423,\n",
       "       502.31948382, 257.03254443])"
      ]
     },
     "execution_count": 7,
     "metadata": {},
     "output_type": "execute_result"
    }
   ],
   "source": [
    "y_teste_floresta"
   ]
  },
  {
   "cell_type": "code",
   "execution_count": 8,
   "id": "8d72f52b-eb7a-44ba-a6b8-5a61a784e82e",
   "metadata": {},
   "outputs": [],
   "source": [
    "qualidade_solo = list(df_teste['Soil_Quality'])\n",
    "variedade_semente = list(df_teste['Seed_Variety'])\n",
    "fertilizante = list(df_teste['Fertilizer_Amount_kg_per_hectare'])\n",
    "dias_de_sol = list(df_teste['Sunny_Days'])\n",
    "chuva = list(df_teste['Rainfall_mm'])\n",
    "irrigação = list(df_teste['Irrigation_Schedule'])\n",
    "\n",
    "rendimento = list(df_teste['Yield_kg_per_hectare'])"
   ]
  },
  {
   "cell_type": "code",
   "execution_count": 9,
   "id": "ecf1839d-e608-4261-83b8-760509c23eb9",
   "metadata": {},
   "outputs": [
    {
     "name": "stdout",
     "output_type": "stream",
     "text": [
      "Tamanho lista: 12\n",
      "[50.00362248192461, 99.99889758903616, 0, 1, 50.06265491148749, 299.9920540908917, 66.72446890908668, 138.52020171941672, 102.0075178449252, 876.694216751489, 0, 15]\n"
     ]
    }
   ],
   "source": [
    "lista = [qualidade_solo, variedade_semente, fertilizante, dias_de_sol, chuva, irrigação]\n",
    "\n",
    "min_max = []\n",
    "\n",
    "for i in lista:\n",
    "    min_max.append(min(i))\n",
    "    min_max.append(max(i))\n",
    "\n",
    "print(\"Tamanho lista:\", len(min_max)) # Deve ser 6 x 2\n",
    "print(min_max)"
   ]
  },
  {
   "cell_type": "markdown",
   "id": "0aa58f5b-2116-4892-8ff9-bb73ffe79b9b",
   "metadata": {},
   "source": [
    "### Floresta Aleatória"
   ]
  },
  {
   "cell_type": "code",
   "execution_count": 10,
   "id": "d19c76aa-4197-4839-b586-a7cd1803627f",
   "metadata": {},
   "outputs": [],
   "source": [
    "SEMENTE_ALEATORIA = 61455\n",
    "\n",
    "modelo_fa = RandomForestRegressor(random_state=SEMENTE_ALEATORIA)"
   ]
  },
  {
   "cell_type": "code",
   "execution_count": 11,
   "id": "e9402123-6796-46d9-a043-944b05609678",
   "metadata": {},
   "outputs": [
    {
     "name": "stdout",
     "output_type": "stream",
     "text": [
      "O RMSE do modelo árvore de decisão foi de 54.89847461072623 unidades de y.\n"
     ]
    }
   ],
   "source": [
    "modelo_fa.fit(X_treino_floresta, y_treino_floresta)\n",
    "\n",
    "y_verdadeiro = y_teste_floresta\n",
    "y_previsao = modelo_fa.predict(X_teste_floresta)\n",
    "    \n",
    "RMSE = mean_squared_error(y_verdadeiro, y_previsao, squared=False)\n",
    "\n",
    "print(f\"O RMSE do modelo árvore de decisão foi de {RMSE} unidades de y.\")"
   ]
  },
  {
   "cell_type": "markdown",
   "id": "0969e291-7b54-4c15-866a-f5a9a59a6cca",
   "metadata": {},
   "source": [
    "Testando o modelo para o maior rendimento do data frame de teste"
   ]
  },
  {
   "cell_type": "code",
   "execution_count": 12,
   "id": "edf99bb3-a110-4cff-a6cc-0c1185882edc",
   "metadata": {},
   "outputs": [
    {
     "name": "stdout",
     "output_type": "stream",
     "text": [
      "[ 51.99126884   0.          66.6478779  100.72440418 454.76365482\n",
      "   4.        ]\n",
      "1406.1107054578508\n"
     ]
    }
   ],
   "source": [
    "num = max(rendimento)\n",
    "\n",
    "indice = rendimento.index(num)\n",
    "\n",
    "linha = indice\n",
    "individuo = df_treino.iloc[linha,:-1].values\n",
    "\n",
    "print(individuo)\n",
    "print(rendimento[indice])"
   ]
  },
  {
   "cell_type": "code",
   "execution_count": 30,
   "id": "7c6d6773-f96f-4ca5-887a-8eb8d071c130",
   "metadata": {},
   "outputs": [
    {
     "name": "stdout",
     "output_type": "stream",
     "text": [
      "[ 51.99126884   0.          66.6478779  100.72440418 454.76365482\n",
      "   4.        ]\n",
      "[384.92875313]\n"
     ]
    }
   ],
   "source": [
    "print(individuo)\n",
    "y_previsto = modelo_fa.predict([individuo])\n",
    "\n",
    "print(y_previsto)"
   ]
  },
  {
   "cell_type": "markdown",
   "id": "9c778772-3f55-4b68-a332-0ba0fe3c7907",
   "metadata": {},
   "source": [
    "### Usando módulo DEAP para algoritmo genético"
   ]
  },
  {
   "cell_type": "code",
   "execution_count": 14,
   "id": "4bcb11d8-1757-41c6-9471-3c0f799928fd",
   "metadata": {},
   "outputs": [],
   "source": [
    "TAMANHO_POPULACAO = 100\n",
    "NUM_GERACOES = 150\n",
    "CHANCE_DE_CRUZAMENTO = 0.5\n",
    "CHANCE_DE_MUTACAO = 0.5\n",
    "TAMANHO_TORNEIO = 5\n",
    "TAMANHO_HALL_DA_FAMA = 1"
   ]
  },
  {
   "cell_type": "code",
   "execution_count": 15,
   "id": "ba528a2e-58fd-43a7-9eba-6ae65a46190d",
   "metadata": {
    "tags": []
   },
   "outputs": [],
   "source": [
    "toolbox = base.Toolbox()"
   ]
  },
  {
   "cell_type": "code",
   "execution_count": 16,
   "id": "15ed3297-958d-4f32-b7f6-e7f923537510",
   "metadata": {},
   "outputs": [
    {
     "name": "stdout",
     "output_type": "stream",
     "text": [
      "Soil_Quality -> Min = 50.00362248192461 / Max = 99.99889758903616\n",
      "\n",
      "Seed_Variety -> Min = 0 / Max = 1\n",
      "\n",
      "Fertilizer_Amount_kg_per_hectare -> Min = 50.06265491148749 / Max = 299.9920540908917\n",
      "\n",
      "Sunny_Days -> Min = 66.72446890908668 / Max = 138.52020171941672\n",
      "\n",
      "Rainfall_mm -> Min = 102.0075178449252 / Max = 876.694216751489\n",
      "\n",
      "Irrigation_Schedule -> Min = 0 / Max = 15\n",
      "\n"
     ]
    }
   ],
   "source": [
    "i = 0\n",
    "j = 0\n",
    "\n",
    "for _ in range(6):\n",
    "    print(features[i], '-> Min =', min_max[j], '/ Max =', min_max[j+1])\n",
    "    print()\n",
    "    i += 1\n",
    "    j += 2"
   ]
  },
  {
   "cell_type": "code",
   "execution_count": 17,
   "id": "e581ca64-36ea-4dce-bea8-410320190162",
   "metadata": {},
   "outputs": [
    {
     "name": "stdout",
     "output_type": "stream",
     "text": [
      "[50.00362248192461, 99.99889758903616, 0, 1, 50.06265491148749, 299.9920540908917, 66.72446890908668, 138.52020171941672, 102.0075178449252, 876.694216751489, 0, 15]\n"
     ]
    }
   ],
   "source": [
    "print(min_max)"
   ]
  },
  {
   "cell_type": "code",
   "execution_count": 18,
   "id": "9e795937-00b9-46da-9955-2cf6244f960b",
   "metadata": {},
   "outputs": [],
   "source": [
    "def gene_soil_quality():\n",
    "    return random.uniform(min_max[0], min_max[1])\n",
    "\n",
    "def gene_seed_variety():\n",
    "    return random.choice([min_max[2], min_max[3]])\n",
    "\n",
    "def gene_fertilizer_amount():\n",
    "    return random.uniform(min_max[4], min_max[5])\n",
    "\n",
    "def gene_sunny_days():\n",
    "    return random.uniform(min_max[6], min_max[7])\n",
    "\n",
    "def gene_rainfall():\n",
    "    return random.uniform(min_max[8], min_max[9])\n",
    "\n",
    "def gene_irrigation_schedule():\n",
    "    return random.randint(int(min_max[10]), int(min_max[11]))"
   ]
  },
  {
   "cell_type": "markdown",
   "id": "9779c22e-f0f5-411a-9d96-5ca5d975a0a5",
   "metadata": {},
   "source": [
    "Registrando os genes no toolbox"
   ]
  },
  {
   "cell_type": "code",
   "execution_count": 19,
   "id": "f4ce5607-b7c8-47a9-b5ab-a32daa092d15",
   "metadata": {},
   "outputs": [],
   "source": [
    "toolbox.register(\"gene_soil_quality\", gene_soil_quality)\n",
    "toolbox.register(\"gene_seed_variety\", gene_seed_variety)\n",
    "toolbox.register(\"gene_fertilizer_amount\", gene_fertilizer_amount)\n",
    "toolbox.register(\"gene_sunny_days\", gene_sunny_days)\n",
    "toolbox.register(\"gene_rainfall\", gene_rainfall)\n",
    "toolbox.register(\"gene_irrigation_schedule\", gene_irrigation_schedule)"
   ]
  },
  {
   "cell_type": "code",
   "execution_count": 20,
   "id": "baf9642c-c9b3-46c4-8e6d-3731bd3a0c55",
   "metadata": {},
   "outputs": [],
   "source": [
    "creator.create(\"FitnessMax\", base.Fitness, weights=(1.0,))\n",
    "creator.create(\"Individuo\", list, fitness=creator.FitnessMax)"
   ]
  },
  {
   "cell_type": "code",
   "execution_count": 21,
   "id": "ea6c7afc-25df-4153-a646-720643777c67",
   "metadata": {},
   "outputs": [],
   "source": [
    "def cria_individuo():\n",
    "    return creator.Individuo([\n",
    "        toolbox.gene_soil_quality(),\n",
    "        toolbox.gene_seed_variety(),\n",
    "        toolbox.gene_fertilizer_amount(),\n",
    "        toolbox.gene_sunny_days(),\n",
    "        toolbox.gene_rainfall(),\n",
    "        toolbox.gene_irrigation_schedule()\n",
    "    ])"
   ]
  },
  {
   "cell_type": "code",
   "execution_count": 22,
   "id": "c5c4af65-3b83-438b-b0a6-0fdeccf45d27",
   "metadata": {},
   "outputs": [
    {
     "name": "stdout",
     "output_type": "stream",
     "text": [
      "[73.43763415836912, 1, 277.2308958233448, 123.40257405700751, 541.1484509237449, 8]\n"
     ]
    }
   ],
   "source": [
    "individuo_teste = cria_individuo()\n",
    "\n",
    "print(individuo_teste)"
   ]
  },
  {
   "cell_type": "markdown",
   "id": "f4c376cf-c09c-4b54-a2e5-02a3becd0556",
   "metadata": {},
   "source": [
    "Criando e testando a função objetivo"
   ]
  },
  {
   "cell_type": "code",
   "execution_count": 23,
   "id": "85664c42-1b13-4218-a51d-6e42837153b0",
   "metadata": {},
   "outputs": [],
   "source": [
    "def mutacao_personalizada(individuo, chance_de_mutacao, min_max_list):\n",
    "    \n",
    "    min_max = min_max_list\n",
    "        \n",
    "    for gene in range(len(individuo)):\n",
    "        if random.random() < chance_de_mutacao:\n",
    "            if gene == 0:\n",
    "                individuo[gene] = random.uniform(min_max[0], min_max[1])\n",
    "            elif gene == 1:\n",
    "                individuo[gene] = 0 if individuo[gene] == 1 else 1\n",
    "            elif gene == 2:\n",
    "                individuo[gene] = random.uniform(min_max[4], min_max[5])\n",
    "            elif gene == 3:\n",
    "                individuo[gene] = random.uniform(min_max[6], min_max[7])\n",
    "            elif gene == 4:\n",
    "                individuo[gene] = random.uniform(min_max[8], min_max[9])\n",
    "            elif gene == 5:\n",
    "                individuo[gene] = random.randint(int(min_max[10]), int(min_max[11]))\n",
    "        \n",
    "    return (individuo, )"
   ]
  },
  {
   "cell_type": "code",
   "execution_count": 31,
   "id": "db67b9f7-aecf-482d-8f9b-b17b898dad2e",
   "metadata": {},
   "outputs": [],
   "source": [
    "def funcao_objetivo_floresta(individuo):\n",
    "    \n",
    "    # Realizar a predição\n",
    "    individuo = np.array(individuo).reshape(1, -1)  # Adicionar dimensão de batch\n",
    "    y_previsao = modelo_fa.predict(individuo)\n",
    "    \n",
    "    # Calcular a distância de Manhattan entre y_pred e todos os valores de y_true \n",
    "    y_prev_val = y_previsao[0]\n",
    "    y_true_vals = y_teste_floresta.reshape(-1, 1)\n",
    "    distances = cdist([[y_prev_val]], y_true_vals, metric='cityblock')\n",
    "    \n",
    "    # Verificar a menor distância\n",
    "    min_distance = distances.min()\n",
    "    if min_distance > 500:\n",
    "        y_prev_val = 0\n",
    "    \n",
    "    return (y_prev_val, )"
   ]
  },
  {
   "cell_type": "code",
   "execution_count": 32,
   "id": "1a1e3528-c59e-4d5e-9716-38849ca02bc2",
   "metadata": {},
   "outputs": [],
   "source": [
    "toolbox.register(\"evaluate\", funcao_objetivo_floresta)"
   ]
  },
  {
   "cell_type": "code",
   "execution_count": 33,
   "id": "ebce1b3a-b8da-4015-a277-43a5d7a5bb17",
   "metadata": {},
   "outputs": [],
   "source": [
    "toolbox.register(\"cria_individuo\", cria_individuo)\n",
    "toolbox.register(\"populacao\", tools.initRepeat, list, toolbox.cria_individuo, TAMANHO_POPULACAO)\n",
    "toolbox.register(\"select\", tools.selTournament, tournsize=TAMANHO_TORNEIO)\n",
    "toolbox.register(\"mate\", tools.cxUniform, indpb=0.5)\n",
    "\n",
    "toolbox.register(\n",
    "    \"mutate\",\n",
    "    mutacao_personalizada,\n",
    "    chance_de_mutacao = CHANCE_DE_MUTACAO,\n",
    "    min_max_list = min_max\n",
    ")\n",
    "\n",
    "hall_da_fama_FA = tools.HallOfFame(TAMANHO_HALL_DA_FAMA)\n",
    "\n",
    "estatisticas_FA = tools.Statistics(lambda ind: ind.fitness.values)\n",
    "estatisticas_FA.register(\"média\", np.mean)\n",
    "estatisticas_FA.register(\"desv. padrão\", np.std)\n",
    "estatisticas_FA.register(\"min\", np.min)\n",
    "estatisticas_FA.register(\"max\", np.max)\n",
    "\n",
    "populacao_inicial_FA = toolbox.populacao()"
   ]
  },
  {
   "cell_type": "code",
   "execution_count": 34,
   "id": "8be3c2a2-f1d5-4644-9005-b2489c554169",
   "metadata": {},
   "outputs": [
    {
     "name": "stdout",
     "output_type": "stream",
     "text": [
      "gen\tnevals\tmédia  \tdesv. padrão\tmin    \tmax    \n",
      "0  \t100   \t775.671\t296.134     \t124.631\t1323.99\n",
      "1  \t69    \t1008.8 \t253.989     \t167.815\t1323.99\n",
      "2  \t76    \t1048.31\t266.792     \t206.534\t1328.42\n",
      "3  \t71    \t1129.21\t254.694     \t153.394\t1329.38\n",
      "4  \t70    \t1139.75\t224.77      \t487.712\t1329.38\n",
      "5  \t68    \t1122.93\t266.779     \t359.194\t1329.38\n",
      "6  \t73    \t1176.11\t227.775     \t384.037\t1333.1 \n",
      "7  \t81    \t1141.6 \t254.334     \t233.973\t1336.61\n",
      "8  \t72    \t1131.31\t280.916     \t284.761\t1338.82\n",
      "9  \t78    \t1138.53\t249.639     \t321.815\t1341.36\n",
      "10 \t86    \t1130.35\t265.031     \t454.653\t1347.41\n",
      "11 \t72    \t1174.81\t273.929     \t211.398\t1347.41\n",
      "12 \t80    \t1140.21\t293.655     \t309.082\t1348.36\n",
      "13 \t67    \t1154.89\t250.182     \t362.028\t1348.36\n",
      "14 \t81    \t1188.51\t232.891     \t349.219\t1348.36\n",
      "15 \t71    \t1179.61\t229.309     \t328.217\t1348.36\n",
      "16 \t84    \t1140.57\t244.738     \t413.457\t1348.36\n",
      "17 \t76    \t1184.14\t241.234     \t383.856\t1348.36\n",
      "18 \t61    \t1231.46\t196.691     \t495.727\t1348.36\n",
      "19 \t70    \t1176.85\t234.13      \t485.785\t1348.36\n",
      "20 \t71    \t1148.27\t261.555     \t208.35 \t1348.36\n",
      "21 \t71    \t1187.4 \t240.971     \t283.016\t1348.36\n",
      "22 \t73    \t1181.25\t246.851     \t334.007\t1348.36\n",
      "23 \t77    \t1201.68\t204.056     \t663.406\t1348.36\n",
      "24 \t74    \t1159.35\t278.052     \t299.615\t1348.36\n",
      "25 \t75    \t1166.92\t257.622     \t352.112\t1348.36\n",
      "26 \t79    \t1117.78\t284.774     \t325.814\t1348.36\n",
      "27 \t69    \t1166.97\t259.182     \t279.346\t1348.39\n",
      "28 \t71    \t1175.87\t251.283     \t460.211\t1348.39\n",
      "29 \t75    \t1175.22\t262.322     \t226.23 \t1348.39\n",
      "30 \t80    \t1167.37\t245.42      \t442.727\t1348.39\n",
      "31 \t71    \t1170.21\t265.907     \t239.908\t1348.39\n",
      "32 \t64    \t1180.8 \t268.404     \t359.979\t1348.39\n",
      "33 \t77    \t1170.76\t235.813     \t467.349\t1350.58\n",
      "34 \t79    \t1162.46\t244.663     \t304.315\t1348.39\n",
      "35 \t75    \t1174.78\t234.61      \t515.163\t1348.39\n",
      "36 \t82    \t1133.93\t284.341     \t125.259\t1348.39\n",
      "37 \t72    \t1168.29\t276.4       \t198.434\t1350.58\n",
      "38 \t66    \t1180.31\t252.152     \t348.982\t1350.58\n",
      "39 \t77    \t1184.13\t234.382     \t369.133\t1350.58\n",
      "40 \t70    \t1180.88\t245.001     \t334.477\t1350.58\n",
      "41 \t82    \t1156.58\t232.771     \t479.866\t1350.58\n",
      "42 \t86    \t1094.41\t268.714     \t430.877\t1350.58\n",
      "43 \t75    \t1134.19\t274.286     \t315.339\t1350.58\n",
      "44 \t73    \t1131.37\t276.69      \t441.953\t1350.58\n",
      "45 \t82    \t1170.31\t242.762     \t495.375\t1350.58\n",
      "46 \t81    \t1109.28\t282.311     \t216.533\t1350.58\n",
      "47 \t75    \t1135.42\t277.705     \t231.94 \t1350.58\n",
      "48 \t82    \t1129.83\t282.067     \t286.634\t1350.58\n",
      "49 \t74    \t1150.07\t238.978     \t282.013\t1350.58\n",
      "50 \t67    \t1169.44\t280.616     \t359.347\t1350.58\n",
      "51 \t79    \t1141.83\t298.956     \t213.982\t1350.58\n",
      "52 \t79    \t1111.39\t243.035     \t470.009\t1350.58\n",
      "53 \t82    \t1154.93\t247.271     \t353.971\t1350.58\n",
      "54 \t74    \t1158.3 \t252.79      \t200.486\t1350.58\n",
      "55 \t79    \t1100.1 \t264.231     \t364.866\t1350.58\n",
      "56 \t70    \t1159.31\t246.58      \t442.71 \t1350.58\n",
      "57 \t75    \t1143.24\t255.035     \t420.923\t1350.58\n",
      "58 \t73    \t1113.21\t260.78      \t464.217\t1350.58\n",
      "59 \t79    \t1152.72\t254.727     \t500.941\t1350.58\n",
      "60 \t79    \t1145.74\t272.336     \t176.874\t1350.58\n",
      "61 \t71    \t1177.85\t248.726     \t298.834\t1350.58\n",
      "62 \t71    \t1167.39\t243.4       \t413.867\t1350.58\n",
      "63 \t70    \t1176.37\t238.721     \t446.899\t1350.58\n",
      "64 \t73    \t1188.85\t237.532     \t403.729\t1350.58\n",
      "65 \t68    \t1178.54\t236.754     \t491.072\t1350.58\n",
      "66 \t75    \t1161.02\t224.8       \t474.337\t1350.58\n",
      "67 \t68    \t1193.89\t234.939     \t453.476\t1350.58\n",
      "68 \t73    \t1155.16\t279.344     \t334.467\t1350.58\n",
      "69 \t73    \t1172.26\t245.422     \t230.726\t1350.58\n",
      "70 \t77    \t1219.42\t232.583     \t482.665\t1350.58\n",
      "71 \t73    \t1177.63\t279.6       \t224.827\t1350.58\n",
      "72 \t72    \t1176.03\t252.75      \t357.924\t1350.58\n",
      "73 \t81    \t1147.99\t244.117     \t450.421\t1350.58\n",
      "74 \t69    \t1139.01\t265.494     \t212.003\t1350.58\n",
      "75 \t79    \t1113.19\t278.181     \t333.461\t1350.58\n",
      "76 \t77    \t1121.89\t262.953     \t450.343\t1350.58\n",
      "77 \t75    \t1130.89\t273.741     \t334.262\t1350.58\n",
      "78 \t76    \t1133.83\t264.045     \t211.214\t1350.58\n",
      "79 \t74    \t1164.26\t257.878     \t290.513\t1350.58\n",
      "80 \t72    \t1181.26\t222.318     \t470.018\t1350.58\n",
      "81 \t80    \t1159.11\t267.295     \t329.858\t1350.58\n",
      "82 \t71    \t1165.43\t247.219     \t452.215\t1350.58\n",
      "83 \t73    \t1123.28\t275.881     \t282.599\t1350.58\n",
      "84 \t73    \t1182.55\t258.432     \t142.266\t1350.58\n",
      "85 \t68    \t1150.81\t268.071     \t389.008\t1350.58\n",
      "86 \t69    \t1156   \t285.008     \t218.254\t1350.58\n",
      "87 \t66    \t1176.9 \t244.371     \t403.381\t1350.58\n",
      "88 \t68    \t1164.63\t269.709     \t303.765\t1350.58\n",
      "89 \t71    \t1213.22\t217.216     \t531.345\t1350.58\n",
      "90 \t66    \t1185.31\t262.129     \t394.043\t1350.58\n",
      "91 \t74    \t1179.13\t266.206     \t246.53 \t1350.58\n",
      "92 \t82    \t1174.01\t232.453     \t473.351\t1350.58\n",
      "93 \t82    \t1187.34\t239.783     \t494.883\t1350.58\n",
      "94 \t72    \t1133.17\t291.585     \t361.17 \t1350.58\n",
      "95 \t79    \t1145.76\t249.268     \t396.722\t1350.58\n",
      "96 \t65    \t1179.51\t255.906     \t387.046\t1350.58\n",
      "97 \t79    \t1196.9 \t230.36      \t278.26 \t1350.58\n",
      "98 \t79    \t1193.29\t215.903     \t427.626\t1350.58\n",
      "99 \t80    \t1156.33\t242.601     \t474.595\t1350.58\n",
      "100\t82    \t1160.33\t257.892     \t312.935\t1350.58\n",
      "101\t63    \t1167.74\t253.194     \t385.155\t1350.58\n",
      "102\t71    \t1191.16\t242.171     \t284.54 \t1350.58\n",
      "103\t72    \t1182.38\t244.78      \t446.724\t1350.58\n",
      "104\t64    \t1168.48\t285.006     \t257.867\t1350.58\n",
      "105\t81    \t1205.87\t225.236     \t487.435\t1350.58\n",
      "106\t83    \t1116.51\t267.847     \t397.838\t1350.58\n",
      "107\t75    \t1131.72\t294.523     \t222.418\t1350.58\n",
      "108\t63    \t1169.65\t281.427     \t175.551\t1350.58\n",
      "109\t73    \t1179.75\t245.386     \t449.638\t1350.58\n",
      "110\t74    \t1183.42\t269.999     \t198.341\t1350.58\n",
      "111\t79    \t1162.04\t239.632     \t521.434\t1350.58\n",
      "112\t78    \t1171.59\t233.318     \t498.876\t1350.58\n",
      "113\t72    \t1154.55\t250.293     \t529.32 \t1350.58\n",
      "114\t78    \t1161.71\t271.859     \t235.275\t1350.58\n",
      "115\t77    \t1170.37\t233.996     \t559.127\t1350.58\n",
      "116\t75    \t1198.67\t234.554     \t469.9  \t1350.58\n",
      "117\t87    \t1120.86\t252.997     \t362.997\t1350.58\n",
      "118\t71    \t1167.43\t250.396     \t260.507\t1350.58\n",
      "119\t76    \t1169.22\t235.526     \t338.685\t1350.58\n",
      "120\t72    \t1150.25\t267.243     \t395.795\t1350.58\n",
      "121\t72    \t1186.29\t231.75      \t475.24 \t1350.58\n",
      "122\t74    \t1172.5 \t251.644     \t385.988\t1350.58\n",
      "123\t72    \t1159.01\t261.605     \t333.218\t1350.58\n",
      "124\t73    \t1147.31\t261.827     \t262.788\t1350.58\n",
      "125\t77    \t1186.03\t235.539     \t291.689\t1350.58\n",
      "126\t86    \t1135.77\t283.57      \t232.939\t1350.58\n",
      "127\t80    \t1199.1 \t237.142     \t238.041\t1350.58\n",
      "128\t84    \t1191.99\t236.827     \t372.667\t1350.58\n",
      "129\t67    \t1207.02\t211.196     \t626.355\t1350.58\n",
      "130\t76    \t1177.2 \t253.632     \t399.482\t1350.58\n",
      "131\t82    \t1147.77\t269.212     \t287.465\t1350.58\n",
      "132\t78    \t1158.88\t263.441     \t390.775\t1350.58\n",
      "133\t79    \t1208.91\t194.489     \t692.946\t1350.58\n",
      "134\t71    \t1177.39\t216.342     \t700.959\t1350.74\n",
      "135\t78    \t1170.73\t255.15      \t510.739\t1350.74\n",
      "136\t79    \t1126.44\t266.009     \t310.811\t1350.74\n",
      "137\t74    \t1160.1 \t258.1       \t393.498\t1350.74\n",
      "138\t80    \t1169.9 \t246.121     \t376.853\t1350.74\n",
      "139\t79    \t1169.08\t265.826     \t248.492\t1350.74\n",
      "140\t75    \t1107.38\t285.83      \t389.047\t1350.74\n",
      "141\t75    \t1151.7 \t272.066     \t472.786\t1351.89\n",
      "142\t76    \t1207.75\t207.402     \t518.516\t1351.89\n",
      "143\t76    \t1141.8 \t275.853     \t165.523\t1351.89\n",
      "144\t71    \t1152.66\t273.837     \t305.235\t1351.89\n",
      "145\t72    \t1165.12\t247.061     \t378.716\t1351.89\n",
      "146\t76    \t1167.24\t261.948     \t278.471\t1351.89\n",
      "147\t79    \t1157.89\t251.646     \t321.69 \t1351.89\n",
      "148\t72    \t1167.07\t249.129     \t366.839\t1351.89\n",
      "149\t76    \t1171.67\t259.423     \t384.764\t1351.89\n",
      "150\t67    \t1212.78\t224.516     \t485.056\t1351.89\n"
     ]
    }
   ],
   "source": [
    "populacao_final_FA, log_FA = eaSimple(\n",
    "    populacao_inicial_FA,\n",
    "    toolbox,\n",
    "    cxpb=CHANCE_DE_CRUZAMENTO,\n",
    "    mutpb=CHANCE_DE_MUTACAO,\n",
    "    ngen=NUM_GERACOES,\n",
    "    stats=estatisticas_FA,\n",
    "    halloffame=hall_da_fama_FA,\n",
    "    verbose=True,\n",
    ")"
   ]
  },
  {
   "cell_type": "code",
   "execution_count": 35,
   "id": "13a206df-b89e-492c-8c9b-16c7a80fb614",
   "metadata": {},
   "outputs": [
    {
     "name": "stdout",
     "output_type": "stream",
     "text": [
      "[[69.96944903888709, 1, 298.0520810373879, 115.79260030219567, 164.80241599918014, 13]]\n"
     ]
    }
   ],
   "source": [
    "print(hall_da_fama_FA.items)"
   ]
  },
  {
   "cell_type": "code",
   "execution_count": 36,
   "id": "531d1184-d552-421c-a415-add57db1f8ed",
   "metadata": {},
   "outputs": [
    {
     "name": "stdout",
     "output_type": "stream",
     "text": [
      "[[ 69.96944904   1.         298.05208104 115.7926003  164.802416\n",
      "   13.        ]]\n",
      "A previsão máxima de rendimento encontrada foi: 1351.8934062229985\n"
     ]
    }
   ],
   "source": [
    "hall_da_fama_FA = np.array(hall_da_fama_FA).reshape(1, -1)\n",
    "print(hall_da_fama_FA)\n",
    "y_previsao = modelo_fa.predict(hall_da_fama_FA)\n",
    "    \n",
    "print(f\"A previsão máxima de rendimento encontrada foi: {y_previsao[0]}\")"
   ]
  }
 ],
 "metadata": {
  "kernelspec": {
   "display_name": "ilumpy",
   "language": "python",
   "name": "ilumpy"
  },
  "language_info": {
   "codemirror_mode": {
    "name": "ipython",
    "version": 3
   },
   "file_extension": ".py",
   "mimetype": "text/x-python",
   "name": "python",
   "nbconvert_exporter": "python",
   "pygments_lexer": "ipython3",
   "version": "3.10.8"
  }
 },
 "nbformat": 4,
 "nbformat_minor": 5
}
